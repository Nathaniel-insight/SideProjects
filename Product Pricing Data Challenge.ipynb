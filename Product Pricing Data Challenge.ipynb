{
 "cells": [
  {
   "cell_type": "markdown",
   "metadata": {},
   "source": [
    "# Purpose\n",
    "\n",
    "Determine sucess of pricing test on website\n",
    "\n",
    "Should the company sell the softeware for 39 or 59\n",
    "\n",
    "What happened to conversion rate\n",
    "\n",
    "Should the test be run for a smaller period of time"
   ]
  },
  {
   "cell_type": "markdown",
   "metadata": {},
   "source": [
    "# Solution\n",
    "\n",
    "Conversion rate suffers from price change by ~ 25% in each cohort (each month)\n",
    "\n",
    "However Revenue goes from 0.02 x 39 = 0.78 dollars / visit --> 0.015 x 59 = 0.885 dollars / visit\n",
    "On average I gain 10 cents per visit by switching to 59 dollar pricing\n",
    "\n",
    "Moreover at the end of cohort in may ( the last 5 days ) the conversion rate of the 1 group dramatically increases and is relatively similar to that of the 0 group indicating that people are willing to pay more for the product by end of may.\n",
    "\n",
    "Conversion rate seems tto increase with web users while it decreases with mobile users, regardles of price\n",
    "\n",
    "Conversion rate and price is very much tied to the Source\n",
    "\n",
    "    - SEO yahoo and SEO other picks up considerably over the course of the test for the higher price\n",
    "    - ads- other also saw significant increase in conversion rate for higher pricing by month 3\n",
    "    - it appears that it took roughly 3 months for SEO to begin working again\n",
    "    - bing users hate the increase in price and conversion drop off significantly\n",
    "    \n",
    "### Should the test ended earlier?\n",
    "\n",
    "By the first month the revenue had already increased by 10 cents per customer and the experiemtn could have ended there.\n",
    "\n",
    "However, it took at least 3 months for the SEO data to show any relevant trends\n",
    "\n",
    "### future ideas\n",
    "\n",
    "Total visits should also be considered as it will inform the company if they are losing too much traffic\n",
    "location and operating system can also be considered.\n",
    "\n",
    "hypothesis tests should be conducted on cohort analysis most likely using chi-square test on equality of porportions\n",
    "\n",
    "cohort analysis can be done on finer scale (e.g. weeks instead of months)"
   ]
  },
  {
   "cell_type": "markdown",
   "metadata": {},
   "source": [
    "# Analysis"
   ]
  },
  {
   "cell_type": "code",
   "execution_count": 189,
   "metadata": {},
   "outputs": [],
   "source": [
    "# import packages\n",
    "import pandas as pd\n",
    "import seaborn as sns\n",
    "import matplotlib.pyplot as plt\n",
    "from datetime import datetime\n",
    "\n",
    "# create input and output file paths\n",
    "input_path = '../data/input/'\n",
    "user_path = input_path + 'user_table.csv'\n",
    "test_results_path = input_path + 'test_results.csv'\n",
    "\n",
    "working_path = '../data/working/{}.csv'.format(datetime.today())\n",
    "\n",
    "output_path = '../data/output/{}.csv'.format(datetime.today())"
   ]
  },
  {
   "cell_type": "markdown",
   "metadata": {},
   "source": [
    "## Load and Clean Data"
   ]
  },
  {
   "cell_type": "code",
   "execution_count": 87,
   "metadata": {},
   "outputs": [],
   "source": [
    "users = pd.read_csv(user_path)\n",
    "tr = pd.read_csv(test_results_path, parse_dates = ['timestamp'])"
   ]
  },
  {
   "cell_type": "code",
   "execution_count": 88,
   "metadata": {},
   "outputs": [
    {
     "name": "stdout",
     "output_type": "stream",
     "text": [
      "<class 'pandas.core.frame.DataFrame'>\n",
      "RangeIndex: 275616 entries, 0 to 275615\n",
      "Data columns (total 5 columns):\n",
      "user_id    275616 non-null int64\n",
      "city       275616 non-null object\n",
      "country    275616 non-null object\n",
      "lat        275616 non-null float64\n",
      "long       275616 non-null float64\n",
      "dtypes: float64(2), int64(1), object(2)\n",
      "memory usage: 10.5+ MB\n"
     ]
    },
    {
     "data": {
      "text/plain": [
       "(275616, 5)"
      ]
     },
     "execution_count": 88,
     "metadata": {},
     "output_type": "execute_result"
    }
   ],
   "source": [
    "users.info()\n",
    "users.shape"
   ]
  },
  {
   "cell_type": "code",
   "execution_count": 89,
   "metadata": {},
   "outputs": [
    {
     "name": "stdout",
     "output_type": "stream",
     "text": [
      "<class 'pandas.core.frame.DataFrame'>\n",
      "RangeIndex: 316800 entries, 0 to 316799\n",
      "Data columns (total 8 columns):\n",
      "user_id             316800 non-null int64\n",
      "timestamp           316800 non-null object\n",
      "source              316800 non-null object\n",
      "device              316800 non-null object\n",
      "operative_system    316800 non-null object\n",
      "test                316800 non-null int64\n",
      "price               316800 non-null int64\n",
      "converted           316800 non-null int64\n",
      "dtypes: int64(4), object(4)\n",
      "memory usage: 19.3+ MB\n"
     ]
    },
    {
     "data": {
      "text/plain": [
       "(316800, 8)"
      ]
     },
     "execution_count": 89,
     "metadata": {},
     "output_type": "execute_result"
    }
   ],
   "source": [
    "tr.info()\n",
    "tr.shape"
   ]
  },
  {
   "cell_type": "code",
   "execution_count": 97,
   "metadata": {},
   "outputs": [
    {
     "data": {
      "text/html": [
       "<div>\n",
       "<style scoped>\n",
       "    .dataframe tbody tr th:only-of-type {\n",
       "        vertical-align: middle;\n",
       "    }\n",
       "\n",
       "    .dataframe tbody tr th {\n",
       "        vertical-align: top;\n",
       "    }\n",
       "\n",
       "    .dataframe thead th {\n",
       "        text-align: right;\n",
       "    }\n",
       "</style>\n",
       "<table border=\"1\" class=\"dataframe\">\n",
       "  <thead>\n",
       "    <tr style=\"text-align: right;\">\n",
       "      <th></th>\n",
       "      <th>user_id</th>\n",
       "      <th>timestamp</th>\n",
       "      <th>source</th>\n",
       "      <th>device</th>\n",
       "      <th>operative_system</th>\n",
       "      <th>test</th>\n",
       "      <th>price</th>\n",
       "      <th>converted</th>\n",
       "      <th>timestamp_conv</th>\n",
       "    </tr>\n",
       "  </thead>\n",
       "  <tbody>\n",
       "    <tr>\n",
       "      <th>0</th>\n",
       "      <td>604839</td>\n",
       "      <td>2015-05-08 03:38:34</td>\n",
       "      <td>ads_facebook</td>\n",
       "      <td>mobile</td>\n",
       "      <td>iOS</td>\n",
       "      <td>0</td>\n",
       "      <td>39</td>\n",
       "      <td>0</td>\n",
       "      <td>2015-05-08</td>\n",
       "    </tr>\n",
       "    <tr>\n",
       "      <th>1</th>\n",
       "      <td>624057</td>\n",
       "      <td>2015-05-10 21:08:46</td>\n",
       "      <td>seo-google</td>\n",
       "      <td>mobile</td>\n",
       "      <td>android</td>\n",
       "      <td>0</td>\n",
       "      <td>39</td>\n",
       "      <td>0</td>\n",
       "      <td>2015-05-10</td>\n",
       "    </tr>\n",
       "    <tr>\n",
       "      <th>2</th>\n",
       "      <td>317970</td>\n",
       "      <td>2015-04-04 15:01:23</td>\n",
       "      <td>ads-bing</td>\n",
       "      <td>mobile</td>\n",
       "      <td>android</td>\n",
       "      <td>0</td>\n",
       "      <td>39</td>\n",
       "      <td>0</td>\n",
       "      <td>2015-04-04</td>\n",
       "    </tr>\n",
       "    <tr>\n",
       "      <th>3</th>\n",
       "      <td>685636</td>\n",
       "      <td>2015-05-07 07:26:01</td>\n",
       "      <td>direct_traffic</td>\n",
       "      <td>mobile</td>\n",
       "      <td>iOS</td>\n",
       "      <td>1</td>\n",
       "      <td>59</td>\n",
       "      <td>0</td>\n",
       "      <td>2015-05-07</td>\n",
       "    </tr>\n",
       "    <tr>\n",
       "      <th>4</th>\n",
       "      <td>820854</td>\n",
       "      <td>2015-05-24 11:04:40</td>\n",
       "      <td>ads_facebook</td>\n",
       "      <td>web</td>\n",
       "      <td>mac</td>\n",
       "      <td>0</td>\n",
       "      <td>39</td>\n",
       "      <td>0</td>\n",
       "      <td>2015-05-24</td>\n",
       "    </tr>\n",
       "  </tbody>\n",
       "</table>\n",
       "</div>"
      ],
      "text/plain": [
       "   user_id            timestamp          source  device operative_system  \\\n",
       "0   604839  2015-05-08 03:38:34    ads_facebook  mobile              iOS   \n",
       "1   624057  2015-05-10 21:08:46      seo-google  mobile          android   \n",
       "2   317970  2015-04-04 15:01:23        ads-bing  mobile          android   \n",
       "3   685636  2015-05-07 07:26:01  direct_traffic  mobile              iOS   \n",
       "4   820854  2015-05-24 11:04:40    ads_facebook     web              mac   \n",
       "\n",
       "   test  price  converted timestamp_conv  \n",
       "0     0     39          0     2015-05-08  \n",
       "1     0     39          0     2015-05-10  \n",
       "2     0     39          0     2015-04-04  \n",
       "3     1     59          0     2015-05-07  \n",
       "4     0     39          0     2015-05-24  "
      ]
     },
     "execution_count": 97,
     "metadata": {},
     "output_type": "execute_result"
    }
   ],
   "source": [
    "# timestamp is messed up and conversion is trickey there about 10,000/300,000 nat values when coerced\n",
    "# but this only affects the times, so we can convert and ignore this\n",
    "tr['timestamp'].iloc[316771]\n",
    "tr['timestamp_conv'] = pd.to_datetime(tr['timestamp'], format = '%y-%m-%d', exact = False)\n",
    "tr.head()"
   ]
  },
  {
   "cell_type": "code",
   "execution_count": 98,
   "metadata": {},
   "outputs": [
    {
     "name": "stdout",
     "output_type": "stream",
     "text": [
      "(275616, 5) (316800, 9)\n"
     ]
    }
   ],
   "source": [
    "# No duplicates\n",
    "print(users.drop_duplicates().shape,tr.drop_duplicates().shape)"
   ]
  },
  {
   "cell_type": "markdown",
   "metadata": {},
   "source": [
    "## Explore Data\n",
    "\n",
    "Did users see the test multiple times"
   ]
  },
  {
   "cell_type": "code",
   "execution_count": 60,
   "metadata": {},
   "outputs": [
    {
     "data": {
      "text/plain": [
       "False    316800\n",
       "Name: user_id, dtype: int64"
      ]
     },
     "execution_count": 60,
     "metadata": {},
     "output_type": "execute_result"
    }
   ],
   "source": [
    "# No multiple users\n",
    "multiple = (tr['user_id'].value_counts() > 1)\n",
    "multiple.value_counts()"
   ]
  },
  {
   "cell_type": "code",
   "execution_count": 64,
   "metadata": {},
   "outputs": [
    {
     "name": "stdout",
     "output_type": "stream",
     "text": [
      "2015-03-02 00:04:12 2015-05-31 23:59:45\n"
     ]
    }
   ],
   "source": [
    "# range of data is march 2, 2015 to april 31, 2015 (only 3 months so lets cohort by week)\n",
    "print(tr['timestamp'].min(),tr['timestamp'].max())"
   ]
  },
  {
   "cell_type": "code",
   "execution_count": 158,
   "metadata": {},
   "outputs": [
    {
     "data": {
      "text/html": [
       "<div>\n",
       "<style scoped>\n",
       "    .dataframe tbody tr th:only-of-type {\n",
       "        vertical-align: middle;\n",
       "    }\n",
       "\n",
       "    .dataframe tbody tr th {\n",
       "        vertical-align: top;\n",
       "    }\n",
       "\n",
       "    .dataframe thead th {\n",
       "        text-align: right;\n",
       "    }\n",
       "</style>\n",
       "<table border=\"1\" class=\"dataframe\">\n",
       "  <thead>\n",
       "    <tr style=\"text-align: right;\">\n",
       "      <th></th>\n",
       "      <th>user_id</th>\n",
       "      <th>timestamp</th>\n",
       "      <th>source</th>\n",
       "      <th>device</th>\n",
       "      <th>operative_system</th>\n",
       "      <th>test</th>\n",
       "      <th>price</th>\n",
       "      <th>converted</th>\n",
       "      <th>timestamp_conv</th>\n",
       "      <th>time_period</th>\n",
       "      <th>cohort_group</th>\n",
       "    </tr>\n",
       "  </thead>\n",
       "  <tbody>\n",
       "    <tr>\n",
       "      <th>0</th>\n",
       "      <td>604839</td>\n",
       "      <td>2015-05-08 03:38:34</td>\n",
       "      <td>ads_facebook</td>\n",
       "      <td>mobile</td>\n",
       "      <td>iOS</td>\n",
       "      <td>0</td>\n",
       "      <td>39</td>\n",
       "      <td>0</td>\n",
       "      <td>2015-05-08</td>\n",
       "      <td>05-08</td>\n",
       "      <td>05</td>\n",
       "    </tr>\n",
       "    <tr>\n",
       "      <th>1</th>\n",
       "      <td>624057</td>\n",
       "      <td>2015-05-10 21:08:46</td>\n",
       "      <td>seo-google</td>\n",
       "      <td>mobile</td>\n",
       "      <td>android</td>\n",
       "      <td>0</td>\n",
       "      <td>39</td>\n",
       "      <td>0</td>\n",
       "      <td>2015-05-10</td>\n",
       "      <td>05-10</td>\n",
       "      <td>05</td>\n",
       "    </tr>\n",
       "    <tr>\n",
       "      <th>2</th>\n",
       "      <td>317970</td>\n",
       "      <td>2015-04-04 15:01:23</td>\n",
       "      <td>ads-bing</td>\n",
       "      <td>mobile</td>\n",
       "      <td>android</td>\n",
       "      <td>0</td>\n",
       "      <td>39</td>\n",
       "      <td>0</td>\n",
       "      <td>2015-04-04</td>\n",
       "      <td>04-04</td>\n",
       "      <td>04</td>\n",
       "    </tr>\n",
       "    <tr>\n",
       "      <th>3</th>\n",
       "      <td>685636</td>\n",
       "      <td>2015-05-07 07:26:01</td>\n",
       "      <td>direct_traffic</td>\n",
       "      <td>mobile</td>\n",
       "      <td>iOS</td>\n",
       "      <td>1</td>\n",
       "      <td>59</td>\n",
       "      <td>0</td>\n",
       "      <td>2015-05-07</td>\n",
       "      <td>05-07</td>\n",
       "      <td>05</td>\n",
       "    </tr>\n",
       "    <tr>\n",
       "      <th>4</th>\n",
       "      <td>820854</td>\n",
       "      <td>2015-05-24 11:04:40</td>\n",
       "      <td>ads_facebook</td>\n",
       "      <td>web</td>\n",
       "      <td>mac</td>\n",
       "      <td>0</td>\n",
       "      <td>39</td>\n",
       "      <td>0</td>\n",
       "      <td>2015-05-24</td>\n",
       "      <td>05-24</td>\n",
       "      <td>05</td>\n",
       "    </tr>\n",
       "  </tbody>\n",
       "</table>\n",
       "</div>"
      ],
      "text/plain": [
       "   user_id            timestamp          source  device operative_system  \\\n",
       "0   604839  2015-05-08 03:38:34    ads_facebook  mobile              iOS   \n",
       "1   624057  2015-05-10 21:08:46      seo-google  mobile          android   \n",
       "2   317970  2015-04-04 15:01:23        ads-bing  mobile          android   \n",
       "3   685636  2015-05-07 07:26:01  direct_traffic  mobile              iOS   \n",
       "4   820854  2015-05-24 11:04:40    ads_facebook     web              mac   \n",
       "\n",
       "   test  price  converted timestamp_conv time_period cohort_group  \n",
       "0     0     39          0     2015-05-08       05-08           05  \n",
       "1     0     39          0     2015-05-10       05-10           05  \n",
       "2     0     39          0     2015-04-04       04-04           04  \n",
       "3     1     59          0     2015-05-07       05-07           05  \n",
       "4     0     39          0     2015-05-24       05-24           05  "
      ]
     },
     "execution_count": 158,
     "metadata": {},
     "output_type": "execute_result"
    }
   ],
   "source": [
    "# create cohorts by month\n",
    "tr['time_period'] = tr['timestamp_conv'].apply(lambda x: x.strftime('%m-%d'))\n",
    "tr['cohort_group'] = tr['timestamp_conv'].apply(lambda x: x.strftime('%m'))\n",
    "tr.head()"
   ]
  },
  {
   "cell_type": "code",
   "execution_count": 164,
   "metadata": {},
   "outputs": [
    {
     "data": {
      "text/html": [
       "<div>\n",
       "<style scoped>\n",
       "    .dataframe tbody tr th:only-of-type {\n",
       "        vertical-align: middle;\n",
       "    }\n",
       "\n",
       "    .dataframe tbody tr th {\n",
       "        vertical-align: top;\n",
       "    }\n",
       "\n",
       "    .dataframe thead th {\n",
       "        text-align: right;\n",
       "    }\n",
       "</style>\n",
       "<table border=\"1\" class=\"dataframe\">\n",
       "  <thead>\n",
       "    <tr style=\"text-align: right;\">\n",
       "      <th></th>\n",
       "      <th></th>\n",
       "      <th></th>\n",
       "      <th>total_users</th>\n",
       "      <th>total_converted</th>\n",
       "      <th>conversion_rate</th>\n",
       "    </tr>\n",
       "    <tr>\n",
       "      <th>cohort_group</th>\n",
       "      <th>time_period</th>\n",
       "      <th>test</th>\n",
       "      <th></th>\n",
       "      <th></th>\n",
       "      <th></th>\n",
       "    </tr>\n",
       "  </thead>\n",
       "  <tbody>\n",
       "    <tr>\n",
       "      <th rowspan=\"5\" valign=\"top\">03</th>\n",
       "      <th rowspan=\"2\" valign=\"top\">03-02</th>\n",
       "      <th>0</th>\n",
       "      <td>1011</td>\n",
       "      <td>18</td>\n",
       "      <td>1.780415</td>\n",
       "    </tr>\n",
       "    <tr>\n",
       "      <th>1</th>\n",
       "      <td>578</td>\n",
       "      <td>9</td>\n",
       "      <td>1.557093</td>\n",
       "    </tr>\n",
       "    <tr>\n",
       "      <th rowspan=\"2\" valign=\"top\">03-03</th>\n",
       "      <th>0</th>\n",
       "      <td>918</td>\n",
       "      <td>21</td>\n",
       "      <td>2.287582</td>\n",
       "    </tr>\n",
       "    <tr>\n",
       "      <th>1</th>\n",
       "      <td>578</td>\n",
       "      <td>6</td>\n",
       "      <td>1.038062</td>\n",
       "    </tr>\n",
       "    <tr>\n",
       "      <th>03-04</th>\n",
       "      <th>0</th>\n",
       "      <td>952</td>\n",
       "      <td>28</td>\n",
       "      <td>2.941176</td>\n",
       "    </tr>\n",
       "  </tbody>\n",
       "</table>\n",
       "</div>"
      ],
      "text/plain": [
       "                               total_users  total_converted  conversion_rate\n",
       "cohort_group time_period test                                               \n",
       "03           03-02       0            1011               18         1.780415\n",
       "                         1             578                9         1.557093\n",
       "             03-03       0             918               21         2.287582\n",
       "                         1             578                6         1.038062\n",
       "             03-04       0             952               28         2.941176"
      ]
     },
     "execution_count": 164,
     "metadata": {},
     "output_type": "execute_result"
    }
   ],
   "source": [
    "# create cohorts\n",
    "def create_cohort(g_by = ['cohort_group', 'time_period', 'test']):\n",
    "    grouped = tr.sort_values(by = ['time_period'])\n",
    "    grouped = grouped.groupby(g_by)\n",
    "    cohorts = grouped.aggregate({'user_id' : pd.Series.nunique, 'converted' : pd.Series.sum})\n",
    "    cohorts = cohorts.rename(columns = {'user_id':'total_users', 'converted':'total_converted'})\n",
    "    cohorts['conversion_rate'] = cohorts['total_converted']/cohorts['total_users'] * 100\n",
    "    return cohorts\n",
    "\n",
    "cohorts = create_cohort()\n",
    "cohorts.head()"
   ]
  },
  {
   "cell_type": "code",
   "execution_count": 165,
   "metadata": {},
   "outputs": [
    {
     "data": {
      "text/html": [
       "<div>\n",
       "<style scoped>\n",
       "    .dataframe tbody tr th:only-of-type {\n",
       "        vertical-align: middle;\n",
       "    }\n",
       "\n",
       "    .dataframe tbody tr th {\n",
       "        vertical-align: top;\n",
       "    }\n",
       "\n",
       "    .dataframe thead th {\n",
       "        text-align: right;\n",
       "    }\n",
       "</style>\n",
       "<table border=\"1\" class=\"dataframe\">\n",
       "  <thead>\n",
       "    <tr style=\"text-align: right;\">\n",
       "      <th></th>\n",
       "      <th></th>\n",
       "      <th></th>\n",
       "      <th>total_users</th>\n",
       "      <th>total_converted</th>\n",
       "      <th>conversion_rate</th>\n",
       "    </tr>\n",
       "    <tr>\n",
       "      <th>cohort_group</th>\n",
       "      <th>time_period</th>\n",
       "      <th>test</th>\n",
       "      <th></th>\n",
       "      <th></th>\n",
       "      <th></th>\n",
       "    </tr>\n",
       "  </thead>\n",
       "  <tbody>\n",
       "    <tr>\n",
       "      <th rowspan=\"5\" valign=\"top\">03</th>\n",
       "      <th rowspan=\"2\" valign=\"top\">03-02</th>\n",
       "      <th>0</th>\n",
       "      <td>1011</td>\n",
       "      <td>18</td>\n",
       "      <td>1.780415</td>\n",
       "    </tr>\n",
       "    <tr>\n",
       "      <th>1</th>\n",
       "      <td>578</td>\n",
       "      <td>9</td>\n",
       "      <td>1.557093</td>\n",
       "    </tr>\n",
       "    <tr>\n",
       "      <th rowspan=\"2\" valign=\"top\">03-03</th>\n",
       "      <th>0</th>\n",
       "      <td>918</td>\n",
       "      <td>21</td>\n",
       "      <td>2.287582</td>\n",
       "    </tr>\n",
       "    <tr>\n",
       "      <th>1</th>\n",
       "      <td>578</td>\n",
       "      <td>6</td>\n",
       "      <td>1.038062</td>\n",
       "    </tr>\n",
       "    <tr>\n",
       "      <th>03-04</th>\n",
       "      <th>0</th>\n",
       "      <td>952</td>\n",
       "      <td>28</td>\n",
       "      <td>2.941176</td>\n",
       "    </tr>\n",
       "  </tbody>\n",
       "</table>\n",
       "</div>"
      ],
      "text/plain": [
       "                               total_users  total_converted  conversion_rate\n",
       "cohort_group time_period test                                               \n",
       "03           03-02       0            1011               18         1.780415\n",
       "                         1             578                9         1.557093\n",
       "             03-03       0             918               21         2.287582\n",
       "                         1             578                6         1.038062\n",
       "             03-04       0             952               28         2.941176"
      ]
     },
     "execution_count": 165,
     "metadata": {},
     "output_type": "execute_result"
    }
   ],
   "source": [
    "cohorts['conversion_rate'] = cohorts['total_converted']/cohorts['total_users'] * 100\n",
    "cohorts.head()"
   ]
  },
  {
   "cell_type": "code",
   "execution_count": 151,
   "metadata": {},
   "outputs": [
    {
     "data": {
      "text/html": [
       "<div>\n",
       "<style scoped>\n",
       "    .dataframe tbody tr th:only-of-type {\n",
       "        vertical-align: middle;\n",
       "    }\n",
       "\n",
       "    .dataframe tbody tr th {\n",
       "        vertical-align: top;\n",
       "    }\n",
       "\n",
       "    .dataframe thead tr th {\n",
       "        text-align: left;\n",
       "    }\n",
       "\n",
       "    .dataframe thead tr:last-of-type th {\n",
       "        text-align: right;\n",
       "    }\n",
       "</style>\n",
       "<table border=\"1\" class=\"dataframe\">\n",
       "  <thead>\n",
       "    <tr>\n",
       "      <th>cohort_group</th>\n",
       "      <th colspan=\"2\" halign=\"left\">03</th>\n",
       "      <th colspan=\"2\" halign=\"left\">04</th>\n",
       "      <th colspan=\"2\" halign=\"left\">05</th>\n",
       "    </tr>\n",
       "    <tr>\n",
       "      <th>test</th>\n",
       "      <th>0</th>\n",
       "      <th>1</th>\n",
       "      <th>0</th>\n",
       "      <th>1</th>\n",
       "      <th>0</th>\n",
       "      <th>1</th>\n",
       "    </tr>\n",
       "    <tr>\n",
       "      <th>time_period</th>\n",
       "      <th></th>\n",
       "      <th></th>\n",
       "      <th></th>\n",
       "      <th></th>\n",
       "      <th></th>\n",
       "      <th></th>\n",
       "    </tr>\n",
       "  </thead>\n",
       "  <tbody>\n",
       "    <tr>\n",
       "      <th>03-02</th>\n",
       "      <td>1.780415</td>\n",
       "      <td>1.557093</td>\n",
       "      <td>NaN</td>\n",
       "      <td>NaN</td>\n",
       "      <td>NaN</td>\n",
       "      <td>NaN</td>\n",
       "    </tr>\n",
       "    <tr>\n",
       "      <th>03-03</th>\n",
       "      <td>2.287582</td>\n",
       "      <td>1.038062</td>\n",
       "      <td>NaN</td>\n",
       "      <td>NaN</td>\n",
       "      <td>NaN</td>\n",
       "      <td>NaN</td>\n",
       "    </tr>\n",
       "    <tr>\n",
       "      <th>03-04</th>\n",
       "      <td>2.941176</td>\n",
       "      <td>1.301518</td>\n",
       "      <td>NaN</td>\n",
       "      <td>NaN</td>\n",
       "      <td>NaN</td>\n",
       "      <td>NaN</td>\n",
       "    </tr>\n",
       "    <tr>\n",
       "      <th>03-05</th>\n",
       "      <td>2.593010</td>\n",
       "      <td>2.292264</td>\n",
       "      <td>NaN</td>\n",
       "      <td>NaN</td>\n",
       "      <td>NaN</td>\n",
       "      <td>NaN</td>\n",
       "    </tr>\n",
       "    <tr>\n",
       "      <th>03-06</th>\n",
       "      <td>1.844618</td>\n",
       "      <td>1.650038</td>\n",
       "      <td>NaN</td>\n",
       "      <td>NaN</td>\n",
       "      <td>NaN</td>\n",
       "      <td>NaN</td>\n",
       "    </tr>\n",
       "  </tbody>\n",
       "</table>\n",
       "</div>"
      ],
      "text/plain": [
       "cohort_group        03            04      05    \n",
       "test                 0         1   0   1   0   1\n",
       "time_period                                     \n",
       "03-02         1.780415  1.557093 NaN NaN NaN NaN\n",
       "03-03         2.287582  1.038062 NaN NaN NaN NaN\n",
       "03-04         2.941176  1.301518 NaN NaN NaN NaN\n",
       "03-05         2.593010  2.292264 NaN NaN NaN NaN\n",
       "03-06         1.844618  1.650038 NaN NaN NaN NaN"
      ]
     },
     "execution_count": 151,
     "metadata": {},
     "output_type": "execute_result"
    }
   ],
   "source": [
    "unpacked = cohorts['conversion_rate'].unstack(0)\n",
    "unpacked = unpacked.unstack(1)\n",
    "unpacked.head()"
   ]
  },
  {
   "cell_type": "code",
   "execution_count": 191,
   "metadata": {},
   "outputs": [
    {
     "data": {
      "text/plain": [
       "Text(0,0.5,'Conversion Rate')"
      ]
     },
     "execution_count": 191,
     "metadata": {},
     "output_type": "execute_result"
    },
    {
     "data": {
      "image/png": "[encoded data removed]",
      "text/plain": [
       "<matplotlib.figure.Figure at 0x7f37a08c2c88>"
      ]
     },
     "metadata": {},
     "output_type": "display_data"
    },
    {
     "data": {
      "image/png": "[encoded data removed]",
      "text/plain": [
       "<matplotlib.figure.Figure at 0x7f37a0772550>"
      ]
     },
     "metadata": {},
     "output_type": "display_data"
    },
    {
     "data": {
      "image/png": "[encoded data removed]",
      "text/plain": [
       "<matplotlib.figure.Figure at 0x7f37a040a0f0>"
      ]
     },
     "metadata": {},
     "output_type": "display_data"
    }
   ],
   "source": [
    "unpacked['03'].plot()\n",
    "plt.title('March Cohort')\n",
    "plt.ylabel('Conversion Rate')\n",
    "unpacked['04'].plot()\n",
    "plt.title('April Cohort')\n",
    "plt.ylabel('Conversion Rate')\n",
    "unpacked['05'].plot()\n",
    "plt.title('May Cohort')\n",
    "plt.ylabel('Conversion Rate')"
   ]
  },
  {
   "cell_type": "code",
   "execution_count": 161,
   "metadata": {},
   "outputs": [
    {
     "data": {
      "text/plain": [
       "cohort_group  test\n",
       "03            0       2.036480\n",
       "              1       1.547459\n",
       "04            0       1.995415\n",
       "              1       1.440004\n",
       "05            0       1.961063\n",
       "              1       1.488903\n",
       "dtype: float64"
      ]
     },
     "execution_count": 161,
     "metadata": {},
     "output_type": "execute_result"
    }
   ],
   "source": [
    "unpacked.mean()"
   ]
  },
  {
   "cell_type": "markdown",
   "metadata": {},
   "source": [
    "## look at device, source and OS information"
   ]
  },
  {
   "cell_type": "code",
   "execution_count": 186,
   "metadata": {},
   "outputs": [
    {
     "data": {
      "text/html": [
       "<div>\n",
       "<style scoped>\n",
       "    .dataframe tbody tr th:only-of-type {\n",
       "        vertical-align: middle;\n",
       "    }\n",
       "\n",
       "    .dataframe tbody tr th {\n",
       "        vertical-align: top;\n",
       "    }\n",
       "\n",
       "    .dataframe thead tr th {\n",
       "        text-align: left;\n",
       "    }\n",
       "\n",
       "    .dataframe thead tr:last-of-type th {\n",
       "        text-align: right;\n",
       "    }\n",
       "</style>\n",
       "<table border=\"1\" class=\"dataframe\">\n",
       "  <thead>\n",
       "    <tr>\n",
       "      <th>device</th>\n",
       "      <th colspan=\"2\" halign=\"left\">mobile</th>\n",
       "      <th colspan=\"2\" halign=\"left\">web</th>\n",
       "    </tr>\n",
       "    <tr>\n",
       "      <th>test</th>\n",
       "      <th>0</th>\n",
       "      <th>1</th>\n",
       "      <th>0</th>\n",
       "      <th>1</th>\n",
       "    </tr>\n",
       "    <tr>\n",
       "      <th>cohort_group</th>\n",
       "      <th></th>\n",
       "      <th></th>\n",
       "      <th></th>\n",
       "      <th></th>\n",
       "    </tr>\n",
       "  </thead>\n",
       "  <tbody>\n",
       "    <tr>\n",
       "      <th>03</th>\n",
       "      <td>2.002263</td>\n",
       "      <td>1.722425</td>\n",
       "      <td>1.899624</td>\n",
       "      <td>1.476931</td>\n",
       "    </tr>\n",
       "    <tr>\n",
       "      <th>04</th>\n",
       "      <td>2.064814</td>\n",
       "      <td>1.585945</td>\n",
       "      <td>2.022176</td>\n",
       "      <td>1.380388</td>\n",
       "    </tr>\n",
       "    <tr>\n",
       "      <th>05</th>\n",
       "      <td>1.906121</td>\n",
       "      <td>1.542211</td>\n",
       "      <td>2.053206</td>\n",
       "      <td>1.549676</td>\n",
       "    </tr>\n",
       "  </tbody>\n",
       "</table>\n",
       "</div>"
      ],
      "text/plain": [
       "device          mobile                 web          \n",
       "test                 0         1         0         1\n",
       "cohort_group                                        \n",
       "03            2.002263  1.722425  1.899624  1.476931\n",
       "04            2.064814  1.585945  2.022176  1.380388\n",
       "05            1.906121  1.542211  2.053206  1.549676"
      ]
     },
     "execution_count": 186,
     "metadata": {},
     "output_type": "execute_result"
    }
   ],
   "source": [
    "device = create_cohort(g_by = ['cohort_group', 'test','device'])\n",
    "device = device['conversion_rate'].unstack(2)\n",
    "device = device.unstack(1)\n",
    "\n",
    "device.head()"
   ]
  },
  {
   "cell_type": "markdown",
   "metadata": {},
   "source": [
    "### device cohort analysis"
   ]
  },
  {
   "cell_type": "code",
   "execution_count": 228,
   "metadata": {},
   "outputs": [
    {
     "data": {
      "text/plain": [
       "Text(0,0.5,'Conversion Rate')"
      ]
     },
     "execution_count": 228,
     "metadata": {},
     "output_type": "execute_result"
    },
    {
     "data": {
      "image/png": "[encoded data removed]",
      "text/plain": [
       "<matplotlib.figure.Figure at 0x7f379f9e79e8>"
      ]
     },
     "metadata": {},
     "output_type": "display_data"
    },
    {
     "data": {
      "image/png": "[encoded data removed]",
      "text/plain": [
       "<matplotlib.figure.Figure at 0x7f379f6c6940>"
      ]
     },
     "metadata": {},
     "output_type": "display_data"
    }
   ],
   "source": [
    "device['mobile'].plot()\n",
    "plt.title('Mobile Cohort, for march april may')\n",
    "plt.ylabel('Conversion Rate')\n",
    "device['web'].plot()\n",
    "plt.title('Web cohort, for march april may')\n",
    "plt.ylabel('Conversion Rate')"
   ]
  },
  {
   "cell_type": "code",
   "execution_count": 200,
   "metadata": {},
   "outputs": [
    {
     "data": {
      "text/html": [
       "<div>\n",
       "<style scoped>\n",
       "    .dataframe tbody tr th:only-of-type {\n",
       "        vertical-align: middle;\n",
       "    }\n",
       "\n",
       "    .dataframe tbody tr th {\n",
       "        vertical-align: top;\n",
       "    }\n",
       "\n",
       "    .dataframe thead tr th {\n",
       "        text-align: left;\n",
       "    }\n",
       "\n",
       "    .dataframe thead tr:last-of-type th {\n",
       "        text-align: right;\n",
       "    }\n",
       "</style>\n",
       "<table border=\"1\" class=\"dataframe\">\n",
       "  <thead>\n",
       "    <tr>\n",
       "      <th>cohort_group</th>\n",
       "      <th colspan=\"2\" halign=\"left\">03</th>\n",
       "      <th colspan=\"2\" halign=\"left\">04</th>\n",
       "      <th colspan=\"2\" halign=\"left\">05</th>\n",
       "    </tr>\n",
       "    <tr>\n",
       "      <th>test</th>\n",
       "      <th>0</th>\n",
       "      <th>1</th>\n",
       "      <th>0</th>\n",
       "      <th>1</th>\n",
       "      <th>0</th>\n",
       "      <th>1</th>\n",
       "    </tr>\n",
       "    <tr>\n",
       "      <th>source</th>\n",
       "      <th></th>\n",
       "      <th></th>\n",
       "      <th></th>\n",
       "      <th></th>\n",
       "      <th></th>\n",
       "      <th></th>\n",
       "    </tr>\n",
       "  </thead>\n",
       "  <tbody>\n",
       "    <tr>\n",
       "      <th>ads-bing</th>\n",
       "      <td>1.336254</td>\n",
       "      <td>1.236882</td>\n",
       "      <td>1.297596</td>\n",
       "      <td>0.828729</td>\n",
       "      <td>1.366274</td>\n",
       "      <td>0.816460</td>\n",
       "    </tr>\n",
       "    <tr>\n",
       "      <th>ads-google</th>\n",
       "      <td>2.347884</td>\n",
       "      <td>2.090338</td>\n",
       "      <td>2.166385</td>\n",
       "      <td>1.869978</td>\n",
       "      <td>2.254513</td>\n",
       "      <td>1.928727</td>\n",
       "    </tr>\n",
       "    <tr>\n",
       "      <th>ads-yahoo</th>\n",
       "      <td>1.801242</td>\n",
       "      <td>1.193059</td>\n",
       "      <td>1.440200</td>\n",
       "      <td>1.173709</td>\n",
       "      <td>1.800124</td>\n",
       "      <td>1.009082</td>\n",
       "    </tr>\n",
       "    <tr>\n",
       "      <th>ads_facebook</th>\n",
       "      <td>2.033898</td>\n",
       "      <td>1.737452</td>\n",
       "      <td>2.516838</td>\n",
       "      <td>1.597289</td>\n",
       "      <td>2.517425</td>\n",
       "      <td>1.714369</td>\n",
       "    </tr>\n",
       "    <tr>\n",
       "      <th>ads_other</th>\n",
       "      <td>1.481843</td>\n",
       "      <td>1.263962</td>\n",
       "      <td>1.908646</td>\n",
       "      <td>1.115678</td>\n",
       "      <td>1.269072</td>\n",
       "      <td>1.347780</td>\n",
       "    </tr>\n",
       "  </tbody>\n",
       "</table>\n",
       "</div>"
      ],
      "text/plain": [
       "cohort_group        03                  04                  05          \n",
       "test                 0         1         0         1         0         1\n",
       "source                                                                  \n",
       "ads-bing      1.336254  1.236882  1.297596  0.828729  1.366274  0.816460\n",
       "ads-google    2.347884  2.090338  2.166385  1.869978  2.254513  1.928727\n",
       "ads-yahoo     1.801242  1.193059  1.440200  1.173709  1.800124  1.009082\n",
       "ads_facebook  2.033898  1.737452  2.516838  1.597289  2.517425  1.714369\n",
       "ads_other     1.481843  1.263962  1.908646  1.115678  1.269072  1.347780"
      ]
     },
     "execution_count": 200,
     "metadata": {},
     "output_type": "execute_result"
    }
   ],
   "source": [
    "## analyze by source\n",
    "source = create_cohort(g_by = ['cohort_group', 'test','source'])\n",
    "source = source['conversion_rate'].unstack(0)\n",
    "source = source.unstack(0)\n",
    "\n",
    "source.head()"
   ]
  },
  {
   "cell_type": "markdown",
   "metadata": {},
   "source": [
    "### Source cohort analysis"
   ]
  },
  {
   "cell_type": "code",
   "execution_count": 209,
   "metadata": {},
   "outputs": [
    {
     "data": {
      "text/plain": [
       "(array([ 0,  1,  2,  3,  4,  5,  6,  7,  8,  9, 10, 11]),\n",
       " <a list of 12 Text xticklabel objects>)"
      ]
     },
     "execution_count": 209,
     "metadata": {},
     "output_type": "execute_result"
    },
    {
     "data": {
      "image/png": "[encoded data removed]",
      "text/plain": [
       "<matplotlib.figure.Figure at 0x7f379fdeacc0>"
      ]
     },
     "metadata": {},
     "output_type": "display_data"
    },
    {
     "data": {
      "image/png": "[encoded data removed]",
      "text/plain": [
       "<matplotlib.figure.Figure at 0x7f379fb998d0>"
      ]
     },
     "metadata": {},
     "output_type": "display_data"
    },
    {
     "data": {
      "image/png": "[encoded data removed]",
      "text/plain": [
       "<matplotlib.figure.Figure at 0x7f379fbf2898>"
      ]
     },
     "metadata": {},
     "output_type": "display_data"
    }
   ],
   "source": [
    "source['03'].plot(kind = 'bar')\n",
    "plt.title('March Cohort by Source')\n",
    "plt.ylabel('Conversion Rate')\n",
    "plt.xticks(rotation = -45)\n",
    "source['04'].plot(kind = 'bar')\n",
    "plt.title('April Cohort by Source')\n",
    "plt.ylabel('Conversion Rate')\n",
    "plt.xticks(rotation = -45)\n",
    "source['05'].plot(kind = 'bar')\n",
    "plt.title('May Cohort by Source')\n",
    "plt.ylabel('Conversion Rate')\n",
    "plt.xticks(rotation = -45)"
   ]
  },
  {
   "cell_type": "code",
   "execution_count": 214,
   "metadata": {},
   "outputs": [
    {
     "data": {
      "text/html": [
       "<div>\n",
       "<style scoped>\n",
       "    .dataframe tbody tr th:only-of-type {\n",
       "        vertical-align: middle;\n",
       "    }\n",
       "\n",
       "    .dataframe tbody tr th {\n",
       "        vertical-align: top;\n",
       "    }\n",
       "\n",
       "    .dataframe thead tr th {\n",
       "        text-align: left;\n",
       "    }\n",
       "\n",
       "    .dataframe thead tr:last-of-type th {\n",
       "        text-align: right;\n",
       "    }\n",
       "</style>\n",
       "<table border=\"1\" class=\"dataframe\">\n",
       "  <thead>\n",
       "    <tr>\n",
       "      <th>source</th>\n",
       "      <th colspan=\"2\" halign=\"left\">ads-bing</th>\n",
       "      <th colspan=\"2\" halign=\"left\">ads-google</th>\n",
       "      <th colspan=\"2\" halign=\"left\">ads-yahoo</th>\n",
       "      <th colspan=\"2\" halign=\"left\">ads_facebook</th>\n",
       "      <th colspan=\"2\" halign=\"left\">ads_other</th>\n",
       "      <th>...</th>\n",
       "      <th colspan=\"2\" halign=\"left\">seo-bing</th>\n",
       "      <th colspan=\"2\" halign=\"left\">seo-google</th>\n",
       "      <th colspan=\"2\" halign=\"left\">seo-other</th>\n",
       "      <th colspan=\"2\" halign=\"left\">seo-yahoo</th>\n",
       "      <th colspan=\"2\" halign=\"left\">seo_facebook</th>\n",
       "    </tr>\n",
       "    <tr>\n",
       "      <th>test</th>\n",
       "      <th>0</th>\n",
       "      <th>1</th>\n",
       "      <th>0</th>\n",
       "      <th>1</th>\n",
       "      <th>0</th>\n",
       "      <th>1</th>\n",
       "      <th>0</th>\n",
       "      <th>1</th>\n",
       "      <th>0</th>\n",
       "      <th>1</th>\n",
       "      <th>...</th>\n",
       "      <th>0</th>\n",
       "      <th>1</th>\n",
       "      <th>0</th>\n",
       "      <th>1</th>\n",
       "      <th>0</th>\n",
       "      <th>1</th>\n",
       "      <th>0</th>\n",
       "      <th>1</th>\n",
       "      <th>0</th>\n",
       "      <th>1</th>\n",
       "    </tr>\n",
       "    <tr>\n",
       "      <th>cohort_group</th>\n",
       "      <th></th>\n",
       "      <th></th>\n",
       "      <th></th>\n",
       "      <th></th>\n",
       "      <th></th>\n",
       "      <th></th>\n",
       "      <th></th>\n",
       "      <th></th>\n",
       "      <th></th>\n",
       "      <th></th>\n",
       "      <th></th>\n",
       "      <th></th>\n",
       "      <th></th>\n",
       "      <th></th>\n",
       "      <th></th>\n",
       "      <th></th>\n",
       "      <th></th>\n",
       "      <th></th>\n",
       "      <th></th>\n",
       "      <th></th>\n",
       "      <th></th>\n",
       "    </tr>\n",
       "  </thead>\n",
       "  <tbody>\n",
       "    <tr>\n",
       "      <th>03</th>\n",
       "      <td>1.336254</td>\n",
       "      <td>1.236882</td>\n",
       "      <td>2.347884</td>\n",
       "      <td>2.090338</td>\n",
       "      <td>1.801242</td>\n",
       "      <td>1.193059</td>\n",
       "      <td>2.033898</td>\n",
       "      <td>1.737452</td>\n",
       "      <td>1.481843</td>\n",
       "      <td>1.263962</td>\n",
       "      <td>...</td>\n",
       "      <td>2.232143</td>\n",
       "      <td>1.901141</td>\n",
       "      <td>1.665599</td>\n",
       "      <td>1.405701</td>\n",
       "      <td>1.804265</td>\n",
       "      <td>1.425856</td>\n",
       "      <td>1.776830</td>\n",
       "      <td>0.389610</td>\n",
       "      <td>1.957547</td>\n",
       "      <td>1.425577</td>\n",
       "    </tr>\n",
       "    <tr>\n",
       "      <th>04</th>\n",
       "      <td>1.297596</td>\n",
       "      <td>0.828729</td>\n",
       "      <td>2.166385</td>\n",
       "      <td>1.869978</td>\n",
       "      <td>1.440200</td>\n",
       "      <td>1.173709</td>\n",
       "      <td>2.516838</td>\n",
       "      <td>1.597289</td>\n",
       "      <td>1.908646</td>\n",
       "      <td>1.115678</td>\n",
       "      <td>...</td>\n",
       "      <td>3.022670</td>\n",
       "      <td>1.071429</td>\n",
       "      <td>1.869159</td>\n",
       "      <td>1.708075</td>\n",
       "      <td>1.813333</td>\n",
       "      <td>0.822368</td>\n",
       "      <td>1.985294</td>\n",
       "      <td>1.428571</td>\n",
       "      <td>1.830664</td>\n",
       "      <td>1.509134</td>\n",
       "    </tr>\n",
       "    <tr>\n",
       "      <th>05</th>\n",
       "      <td>1.366274</td>\n",
       "      <td>0.816460</td>\n",
       "      <td>2.254513</td>\n",
       "      <td>1.928727</td>\n",
       "      <td>1.800124</td>\n",
       "      <td>1.009082</td>\n",
       "      <td>2.517425</td>\n",
       "      <td>1.714369</td>\n",
       "      <td>1.269072</td>\n",
       "      <td>1.347780</td>\n",
       "      <td>...</td>\n",
       "      <td>3.680982</td>\n",
       "      <td>1.086957</td>\n",
       "      <td>1.728215</td>\n",
       "      <td>1.668937</td>\n",
       "      <td>1.647597</td>\n",
       "      <td>1.541251</td>\n",
       "      <td>2.067669</td>\n",
       "      <td>1.269841</td>\n",
       "      <td>1.481177</td>\n",
       "      <td>1.165666</td>\n",
       "    </tr>\n",
       "  </tbody>\n",
       "</table>\n",
       "<p>3 rows × 24 columns</p>\n",
       "</div>"
      ],
      "text/plain": [
       "source        ads-bing           ads-google           ads-yahoo            \\\n",
       "test                 0         1          0         1         0         1   \n",
       "cohort_group                                                                \n",
       "03            1.336254  1.236882   2.347884  2.090338  1.801242  1.193059   \n",
       "04            1.297596  0.828729   2.166385  1.869978  1.440200  1.173709   \n",
       "05            1.366274  0.816460   2.254513  1.928727  1.800124  1.009082   \n",
       "\n",
       "source       ads_facebook           ads_other              ...     seo-bing  \\\n",
       "test                    0         1         0         1    ...            0   \n",
       "cohort_group                                               ...                \n",
       "03               2.033898  1.737452  1.481843  1.263962    ...     2.232143   \n",
       "04               2.516838  1.597289  1.908646  1.115678    ...     3.022670   \n",
       "05               2.517425  1.714369  1.269072  1.347780    ...     3.680982   \n",
       "\n",
       "source                 seo-google           seo-other           seo-yahoo  \\\n",
       "test                 1          0         1         0         1         0   \n",
       "cohort_group                                                                \n",
       "03            1.901141   1.665599  1.405701  1.804265  1.425856  1.776830   \n",
       "04            1.071429   1.869159  1.708075  1.813333  0.822368  1.985294   \n",
       "05            1.086957   1.728215  1.668937  1.647597  1.541251  2.067669   \n",
       "\n",
       "source                 seo_facebook            \n",
       "test                 1            0         1  \n",
       "cohort_group                                   \n",
       "03            0.389610     1.957547  1.425577  \n",
       "04            1.428571     1.830664  1.509134  \n",
       "05            1.269841     1.481177  1.165666  \n",
       "\n",
       "[3 rows x 24 columns]"
      ]
     },
     "execution_count": 214,
     "metadata": {},
     "output_type": "execute_result"
    }
   ],
   "source": [
    "source1 = create_cohort(g_by = ['cohort_group', 'test','source'])\n",
    "source1 = source1['conversion_rate'].unstack(2)\n",
    "source1 = source1.unstack(1)\n",
    "\n",
    "source1.head()"
   ]
  },
  {
   "cell_type": "code",
   "execution_count": 231,
   "metadata": {},
   "outputs": [
    {
     "data": {
      "text/plain": [
       "(array([0, 1, 2]), <a list of 3 Text xticklabel objects>)"
      ]
     },
     "execution_count": 231,
     "metadata": {},
     "output_type": "execute_result"
    },
    {
     "data": {
      "image/png": "[encoded data removed]",
      "text/plain": [
       "<matplotlib.figure.Figure at 0x7f379f6f0630>"
      ]
     },
     "metadata": {},
     "output_type": "display_data"
    },
    {
     "data": {
      "image/png": "[encoded data removed]",
      "text/plain": [
       "<matplotlib.figure.Figure at 0x7f379f3df278>"
      ]
     },
     "metadata": {},
     "output_type": "display_data"
    },
    {
     "data": {
      "image/png": "[encoded data removed]",
      "text/plain": [
       "<matplotlib.figure.Figure at 0x7f379f3483c8>"
      ]
     },
     "metadata": {},
     "output_type": "display_data"
    },
    {
     "data": {
      "image/png": "[encoded data removed]",
      "text/plain": [
       "<matplotlib.figure.Figure at 0x7f379f2b1588>"
      ]
     },
     "metadata": {},
     "output_type": "display_data"
    }
   ],
   "source": [
    "source1['seo-yahoo'].plot(kind = 'bar')\n",
    "plt.title('seo-yahoo cohort')\n",
    "plt.ylabel('Conversion Rate')\n",
    "plt.xticks(rotation = -45)\n",
    "source1['seo-other'].plot(kind = 'bar')\n",
    "plt.title('seo-other cohort')\n",
    "plt.ylabel('Conversion Rate')\n",
    "plt.xticks(rotation = -45)\n",
    "source1['ads_other'].plot(kind = 'bar')\n",
    "plt.title('ads-other cohort')\n",
    "plt.ylabel('Conversion Rate')\n",
    "plt.xticks(rotation = -45)\n",
    "source1['seo-bing'].plot(kind = 'bar')\n",
    "plt.title('seo-bing cohort')\n",
    "plt.ylabel('Conversion Rate')\n",
    "plt.xticks(rotation = -45)"
   ]
  },
  {
   "cell_type": "markdown",
   "metadata": {},
   "source": [
    "# Solution\n",
    "\n",
    "Conversion rate suffers from price change by ~ 25% in each cohort (each month)\n",
    "\n",
    "However Revenue goes from 0.02 x 39 = 0.78 dollars / visit --> 0.015 x 59 = 0.885 dollars / visit\n",
    "On average I gain 10 cents per visit by switching to 59 dollar pricing\n",
    "\n",
    "Moreover at the end of cohort in may ( the last 5 days ) the conversion rate of the 1 group dramatically increases and is relatively similar to that of the 0 group indicating that people are willing to pay more for the product by end of may.\n",
    "\n",
    "Conversion rate seems tto increase with web users while it decreases with mobile users, regardles of price\n",
    "\n",
    "Conversion rate and price is very much tied to the Source\n",
    "\n",
    "    - SEO yahoo and SEO other picks up considerably over the course of the test for the higher price\n",
    "    - ads- other also saw significant increase in conversion rate for higher pricing by month 3\n",
    "    - it appears that it took roughly 3 months for SEO to begin working again\n",
    "    - bing users hate the increase in price and conversion drop off significantly\n",
    "    \n",
    "### Should the test ended earlier?\n",
    "\n",
    "By the first month the revenue had already increased by 10 cents per customer and the experiemtn could have ended there.\n",
    "\n",
    "However, it took at least 3 months for the SEO data to show any relevant trends\n",
    "\n",
    "### future ideas\n",
    "\n",
    "Total visits should also be considered as it will inform the company if they are losing too much traffic\n",
    "location and operating system can also be considered.\n",
    "\n",
    "hypothesis tests should be conducted on cohort analysis most likely using chi-square test on equality of porportions\n",
    "\n",
    "cohort analysis can be done on finer scale (e.g. weeks instead of months)"
   ]
  },
  {
   "cell_type": "code",
   "execution_count": null,
   "metadata": {},
   "outputs": [],
   "source": []
  }
 ],
 "metadata": {
  "kernelspec": {
   "display_name": "Python 3",
   "language": "python",
   "name": "python3"
  },
  "language_info": {
   "codemirror_mode": {
    "name": "ipython",
    "version": 3
   },
   "file_extension": ".py",
   "mimetype": "text/x-python",
   "name": "python",
   "nbconvert_exporter": "python",
   "pygments_lexer": "ipython3",
   "version": "3.6.4"
  }
 },
 "nbformat": 4,
 "nbformat_minor": 2
}
