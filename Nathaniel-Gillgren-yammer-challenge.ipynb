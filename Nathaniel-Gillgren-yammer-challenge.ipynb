{
 "cells": [
  {
   "cell_type": "markdown",
   "metadata": {},
   "source": [
    "# Purpose\n",
    "\n",
    "Determine the cause of the dip in user enagement on yammer at the end of july / beginning of august and make recommendations\n",
    "\n",
    "## Solution\n",
    "\n",
    "### possible problems to explore\n",
    "Fallout ( a new feature was added and others were upset they didn't see it )\n",
    "\n",
    "A bad feature was added ( people didn't like it and left )\n",
    "\n",
    "An email marketing failed ( people didn't like the email and left )\n",
    "\n",
    "Server Crashed\n",
    "\n",
    "### Evaluation of analysis\n",
    "So far we've identified that the majority of the users speak english, there is a 50/50 split on active vs pending\n",
    "\n",
    "the engaged cohort looks very similar before and after, they have the same locations, and similar event_names, and even similar device distributions\n",
    "\n",
    "there appears to be a big loss all around ( by about a factor of 2 )\n",
    "\n",
    "It appears that while the number of weekly digets sent were similar in number ( 2496 before , 1648 after), the clickthrough rate dramatically decreased ( 1067 before, 197 after ), that is the porportion of clickthrough / digest sent = (0.42 before vs 0.11 after) for users who were engaged before jul 28\n",
    "\n",
    "this analysis is incomplete as i need to also consider the users who were engaged before, weren't engaged after, but still recieved the emails...\n",
    "\n",
    "\n",
    "### Recommendations\n",
    "\n",
    "Identify what happened to the weekly digest before and after this date to understand why the clickthrough rate dropped so dramatically  \n",
    "\n",
    "\n",
    "# Possible other ways to measure engagement\n",
    "\n",
    "x-y plot of engagement vs #of days on yammer (conditioned on cohort (grouped by date they started))\n",
    "cohort defined by time, location, device, language, company,"
   ]
  },
  {
   "cell_type": "markdown",
   "metadata": {},
   "source": [
    "# Solution"
   ]
  },
  {
   "cell_type": "markdown",
   "metadata": {},
   "source": [
    "# Challenge"
   ]
  },
  {
   "cell_type": "code",
   "execution_count": 1,
   "metadata": {},
   "outputs": [],
   "source": [
    "import pandas as pd\n",
    "import seaborn as sns\n",
    "import datetime\n",
    "import matplotlib.pyplot as plt\n",
    "import numpy as np\n",
    "\n",
    "input_path = \"../data/input/\"\n",
    "output_path = \"../data/output/\""
   ]
  },
  {
   "cell_type": "markdown",
   "metadata": {},
   "source": [
    "## Ingestion\n",
    "Load data, check headers"
   ]
  },
  {
   "cell_type": "code",
   "execution_count": 2,
   "metadata": {},
   "outputs": [],
   "source": [
    "users = pd.read_csv('{}{}'.format(input_path,'yammer_users.csv'))\n",
    "events = pd.read_csv('{}{}'.format(input_path,'yammer_events.csv'))\n",
    "emails = pd.read_csv('{}{}'.format(input_path,'yammer_emails.csv'))"
   ]
  },
  {
   "cell_type": "markdown",
   "metadata": {},
   "source": [
    "## Cleaning\n",
    "### check missing data\n",
    "\n",
    "activated_at has many missing values because these users have not activated their account they are classified as null already\n",
    "\n",
    "### check duplicate data\n",
    "\n",
    "there are no duplicates in users\n",
    "\n",
    "user_type in events is not mentioned in white paper we will drop that column as we don't know what it means\n",
    "\n",
    "events had 6 duplicates will drop those too\n",
    "\n",
    "emails has no duplicates"
   ]
  },
  {
   "cell_type": "code",
   "execution_count": 3,
   "metadata": {},
   "outputs": [
    {
     "name": "stdout",
     "output_type": "stream",
     "text": [
      "<class 'pandas.core.frame.DataFrame'>\n",
      "RangeIndex: 19066 entries, 0 to 19065\n",
      "Data columns (total 6 columns):\n",
      "user_id         19066 non-null float64\n",
      "created_at      19066 non-null object\n",
      "company_id      19066 non-null float64\n",
      "language        19066 non-null object\n",
      "activated_at    9381 non-null object\n",
      "state           19066 non-null object\n",
      "dtypes: float64(2), object(4)\n",
      "memory usage: 893.8+ KB\n"
     ]
    }
   ],
   "source": [
    "users.info()"
   ]
  },
  {
   "cell_type": "code",
   "execution_count": 4,
   "metadata": {
    "scrolled": true
   },
   "outputs": [
    {
     "name": "stdout",
     "output_type": "stream",
     "text": [
      "<class 'pandas.core.frame.DataFrame'>\n",
      "RangeIndex: 340832 entries, 0 to 340831\n",
      "Data columns (total 6 columns):\n",
      "user_id        340832 non-null float64\n",
      "occurred_at    340832 non-null object\n",
      "event_type     340832 non-null object\n",
      "event_name     340832 non-null object\n",
      "location       340832 non-null object\n",
      "device         340832 non-null object\n",
      "dtypes: float64(1), object(5)\n",
      "memory usage: 15.6+ MB\n"
     ]
    }
   ],
   "source": [
    "events = events.drop('user_type', axis = 1)\n",
    "events.info()"
   ]
  },
  {
   "cell_type": "code",
   "execution_count": 5,
   "metadata": {},
   "outputs": [],
   "source": [
    "events = events.drop_duplicates()"
   ]
  },
  {
   "cell_type": "code",
   "execution_count": 6,
   "metadata": {},
   "outputs": [
    {
     "name": "stdout",
     "output_type": "stream",
     "text": [
      "<class 'pandas.core.frame.DataFrame'>\n",
      "RangeIndex: 90389 entries, 0 to 90388\n",
      "Data columns (total 4 columns):\n",
      "user_id        90389 non-null float64\n",
      "occurred_at    90389 non-null object\n",
      "action         90389 non-null object\n",
      "user_type      90389 non-null float64\n",
      "dtypes: float64(2), object(2)\n",
      "memory usage: 2.8+ MB\n"
     ]
    }
   ],
   "source": [
    "emails.info()"
   ]
  },
  {
   "cell_type": "markdown",
   "metadata": {},
   "source": [
    "## Exploring\n",
    "Identify segments in user profiles\n",
    "Identify cohort before and after drop"
   ]
  },
  {
   "cell_type": "code",
   "execution_count": 7,
   "metadata": {},
   "outputs": [
    {
     "name": "stdout",
     "output_type": "stream",
     "text": [
      "<class 'pandas.core.frame.DataFrame'>\n",
      "Int64Index: 340825 entries, 0 to 340831\n",
      "Data columns (total 11 columns):\n",
      "user_id         340825 non-null float64\n",
      "occurred_at     340825 non-null object\n",
      "event_type      340825 non-null object\n",
      "event_name      340825 non-null object\n",
      "location        340825 non-null object\n",
      "device          340825 non-null object\n",
      "created_at      340825 non-null object\n",
      "company_id      340825 non-null float64\n",
      "language        340825 non-null object\n",
      "activated_at    336288 non-null object\n",
      "state           340825 non-null object\n",
      "dtypes: float64(2), object(9)\n",
      "memory usage: 31.2+ MB\n"
     ]
    }
   ],
   "source": [
    "test = events.join(users.set_index('user_id'), on='user_id', how = 'left')\n",
    "test.info()"
   ]
  },
  {
   "cell_type": "code",
   "execution_count": null,
   "metadata": {},
   "outputs": [],
   "source": []
  },
  {
   "cell_type": "code",
   "execution_count": 8,
   "metadata": {},
   "outputs": [
    {
     "data": {
      "text/html": [
       "<div>\n",
       "<style scoped>\n",
       "    .dataframe tbody tr th:only-of-type {\n",
       "        vertical-align: middle;\n",
       "    }\n",
       "\n",
       "    .dataframe tbody tr th {\n",
       "        vertical-align: top;\n",
       "    }\n",
       "\n",
       "    .dataframe thead th {\n",
       "        text-align: right;\n",
       "    }\n",
       "</style>\n",
       "<table border=\"1\" class=\"dataframe\">\n",
       "  <thead>\n",
       "    <tr style=\"text-align: right;\">\n",
       "      <th></th>\n",
       "      <th>user_id</th>\n",
       "      <th>created_at</th>\n",
       "      <th>company_id</th>\n",
       "      <th>language</th>\n",
       "      <th>activated_at</th>\n",
       "      <th>state</th>\n",
       "      <th>language_cat</th>\n",
       "      <th>state_cat</th>\n",
       "      <th>company_id_cat</th>\n",
       "    </tr>\n",
       "  </thead>\n",
       "  <tbody>\n",
       "    <tr>\n",
       "      <th>0</th>\n",
       "      <td>0.0</td>\n",
       "      <td>2013-01-01 20:59:39</td>\n",
       "      <td>5737.0</td>\n",
       "      <td>english</td>\n",
       "      <td>2013-01-01 21:01:07</td>\n",
       "      <td>active</td>\n",
       "      <td>english</td>\n",
       "      <td>active</td>\n",
       "      <td>5737.0</td>\n",
       "    </tr>\n",
       "    <tr>\n",
       "      <th>1</th>\n",
       "      <td>1.0</td>\n",
       "      <td>2013-01-01 13:07:46</td>\n",
       "      <td>28.0</td>\n",
       "      <td>english</td>\n",
       "      <td>NaN</td>\n",
       "      <td>pending</td>\n",
       "      <td>english</td>\n",
       "      <td>pending</td>\n",
       "      <td>28.0</td>\n",
       "    </tr>\n",
       "    <tr>\n",
       "      <th>2</th>\n",
       "      <td>2.0</td>\n",
       "      <td>2013-01-01 10:59:05</td>\n",
       "      <td>51.0</td>\n",
       "      <td>english</td>\n",
       "      <td>NaN</td>\n",
       "      <td>pending</td>\n",
       "      <td>english</td>\n",
       "      <td>pending</td>\n",
       "      <td>51.0</td>\n",
       "    </tr>\n",
       "    <tr>\n",
       "      <th>3</th>\n",
       "      <td>3.0</td>\n",
       "      <td>2013-01-01 18:40:36</td>\n",
       "      <td>2800.0</td>\n",
       "      <td>german</td>\n",
       "      <td>2013-01-01 18:42:02</td>\n",
       "      <td>active</td>\n",
       "      <td>german</td>\n",
       "      <td>active</td>\n",
       "      <td>2800.0</td>\n",
       "    </tr>\n",
       "    <tr>\n",
       "      <th>4</th>\n",
       "      <td>4.0</td>\n",
       "      <td>2013-01-01 14:37:51</td>\n",
       "      <td>5110.0</td>\n",
       "      <td>indian</td>\n",
       "      <td>2013-01-01 14:39:05</td>\n",
       "      <td>active</td>\n",
       "      <td>indian</td>\n",
       "      <td>active</td>\n",
       "      <td>5110.0</td>\n",
       "    </tr>\n",
       "  </tbody>\n",
       "</table>\n",
       "</div>"
      ],
      "text/plain": [
       "   user_id           created_at  company_id language         activated_at  \\\n",
       "0      0.0  2013-01-01 20:59:39      5737.0  english  2013-01-01 21:01:07   \n",
       "1      1.0  2013-01-01 13:07:46        28.0  english                  NaN   \n",
       "2      2.0  2013-01-01 10:59:05        51.0  english                  NaN   \n",
       "3      3.0  2013-01-01 18:40:36      2800.0   german  2013-01-01 18:42:02   \n",
       "4      4.0  2013-01-01 14:37:51      5110.0   indian  2013-01-01 14:39:05   \n",
       "\n",
       "     state language_cat state_cat company_id_cat  \n",
       "0   active      english    active         5737.0  \n",
       "1  pending      english   pending           28.0  \n",
       "2  pending      english   pending           51.0  \n",
       "3   active       german    active         2800.0  \n",
       "4   active       indian    active         5110.0  "
      ]
     },
     "execution_count": 8,
     "metadata": {},
     "output_type": "execute_result"
    }
   ],
   "source": [
    "#plot categorials of users\n",
    "users['language_cat'] = users['language'].astype('category')\n",
    "users['state_cat'] = users['state'].astype('category')\n",
    "users['company_id_cat'] = users['company_id'].astype('category')\n",
    "#\n",
    "users.head()"
   ]
  },
  {
   "cell_type": "code",
   "execution_count": 9,
   "metadata": {},
   "outputs": [
    {
     "data": {
      "text/plain": [
       "<matplotlib.axes._subplots.AxesSubplot at 0x7feff9c3b470>"
      ]
     },
     "execution_count": 9,
     "metadata": {},
     "output_type": "execute_result"
    },
    {
     "data": {
      "image/png": "[encoded data removed]",
      "text/plain": [
       "<matplotlib.figure.Figure at 0x7feff9c3bba8>"
      ]
     },
     "metadata": {},
     "output_type": "display_data"
    }
   ],
   "source": [
    "sns.countplot(x = 'language_cat', data =users)"
   ]
  },
  {
   "cell_type": "code",
   "execution_count": 10,
   "metadata": {},
   "outputs": [
    {
     "data": {
      "text/plain": [
       "<matplotlib.axes._subplots.AxesSubplot at 0x7feff9c26be0>"
      ]
     },
     "execution_count": 10,
     "metadata": {},
     "output_type": "execute_result"
    },
    {
     "data": {
      "image/png": "[encoded data removed]",
      "text/plain": [
       "<matplotlib.figure.Figure at 0x7feff9b00710>"
      ]
     },
     "metadata": {},
     "output_type": "display_data"
    }
   ],
   "source": [
    "sns.countplot(x = 'state_cat', data =users)"
   ]
  },
  {
   "cell_type": "markdown",
   "metadata": {},
   "source": [
    "### Create a data frame of weekly active users using pandas time series\n",
    "\n",
    "below is the activated users over the lifetime of the dataset not the engaged users"
   ]
  },
  {
   "cell_type": "code",
   "execution_count": 11,
   "metadata": {},
   "outputs": [
    {
     "data": {
      "text/plain": [
       "<matplotlib.axes._subplots.AxesSubplot at 0x7feff8b51470>"
      ]
     },
     "execution_count": 11,
     "metadata": {},
     "output_type": "execute_result"
    },
    {
     "data": {
      "image/png": "[encoded data removed]",
      "text/plain": [
       "<matplotlib.figure.Figure at 0x7feff9b0a160>"
      ]
     },
     "metadata": {},
     "output_type": "display_data"
    }
   ],
   "source": [
    "index = pd.DatetimeIndex(users['activated_at'])\n",
    "w_act = pd.DataFrame(index = index)\n",
    "w_act['num_activated'] = 1\n",
    "w_act = w_act.resample('W').sum()\n",
    "w_act.plot()"
   ]
  },
  {
   "cell_type": "code",
   "execution_count": 12,
   "metadata": {},
   "outputs": [
    {
     "name": "stderr",
     "output_type": "stream",
     "text": [
      "/home/nathaniel/anaconda3/lib/python3.6/site-packages/ipykernel_launcher.py:4: SettingWithCopyWarning: \n",
      "A value is trying to be set on a copy of a slice from a DataFrame.\n",
      "Try using .loc[row_indexer,col_indexer] = value instead\n",
      "\n",
      "See the caveats in the documentation: http://pandas.pydata.org/pandas-docs/stable/indexing.html#indexing-view-versus-copy\n",
      "  after removing the cwd from sys.path.\n",
      "/home/nathaniel/anaconda3/lib/python3.6/site-packages/ipykernel_launcher.py:5: SettingWithCopyWarning: \n",
      "A value is trying to be set on a copy of a slice from a DataFrame.\n",
      "Try using .loc[row_indexer,col_indexer] = value instead\n",
      "\n",
      "See the caveats in the documentation: http://pandas.pydata.org/pandas-docs/stable/indexing.html#indexing-view-versus-copy\n",
      "  \"\"\"\n",
      "/home/nathaniel/anaconda3/lib/python3.6/site-packages/ipykernel_launcher.py:6: SettingWithCopyWarning: \n",
      "A value is trying to be set on a copy of a slice from a DataFrame.\n",
      "Try using .loc[row_indexer,col_indexer] = value instead\n",
      "\n",
      "See the caveats in the documentation: http://pandas.pydata.org/pandas-docs/stable/indexing.html#indexing-view-versus-copy\n",
      "  \n",
      "/home/nathaniel/anaconda3/lib/python3.6/site-packages/ipykernel_launcher.py:7: SettingWithCopyWarning: \n",
      "A value is trying to be set on a copy of a slice from a DataFrame.\n",
      "Try using .loc[row_indexer,col_indexer] = value instead\n",
      "\n",
      "See the caveats in the documentation: http://pandas.pydata.org/pandas-docs/stable/indexing.html#indexing-view-versus-copy\n",
      "  import sys\n"
     ]
    }
   ],
   "source": [
    "## get egaged userids who 2 weeks prior to Aug1 and 2 weeks after Aug 1 \n",
    "\n",
    "engaged = events[events['event_type'] == 'engagement']\n",
    "engaged['occurred_at'] = pd.to_datetime(engaged['occurred_at'])\n",
    "engaged['event_name'] = engaged['event_name'].astype('category')\n",
    "engaged['location'] = engaged['location'].astype('category')\n",
    "engaged['device'] = engaged['device'].astype('category')\n",
    "\n",
    "before_start = datetime.datetime(2014,7,21)\n",
    "fail_time =  datetime.datetime(2014,8,1)\n",
    "after_end =  datetime.datetime(2014,8,8)\n",
    "\n",
    "before_cohort = engaged[(engaged['occurred_at'] > before_start)&(engaged['occurred_at'] < fail_time)]\n",
    "after_cohort = engaged[(engaged['occurred_at'] >= fail_time)&(engaged['occurred_at'] < after_end)]\n"
   ]
  },
  {
   "cell_type": "markdown",
   "metadata": {},
   "source": [
    "### Now I've split the cohorts before and after the event I can segment the before and after events by device, location, and event_name"
   ]
  },
  {
   "cell_type": "code",
   "execution_count": 13,
   "metadata": {},
   "outputs": [
    {
     "data": {
      "text/plain": [
       "(array([ 0,  1,  2,  3,  4,  5,  6,  7,  8,  9, 10, 11, 12, 13, 14, 15, 16,\n",
       "        17, 18, 19, 20, 21, 22, 23, 24, 25]),\n",
       " <a list of 26 Text xticklabel objects>)"
      ]
     },
     "execution_count": 13,
     "metadata": {},
     "output_type": "execute_result"
    },
    {
     "data": {
      "image/png": "[encoded data removed]",
      "text/plain": [
       "<matplotlib.figure.Figure at 0x7feff8ab1dd8>"
      ]
     },
     "metadata": {},
     "output_type": "display_data"
    }
   ],
   "source": [
    "sns.countplot(x = 'device', data=before_cohort)\n",
    "plt.xticks(rotation = -90)"
   ]
  },
  {
   "cell_type": "code",
   "execution_count": 14,
   "metadata": {},
   "outputs": [
    {
     "data": {
      "text/plain": [
       "(array([ 0,  1,  2,  3,  4,  5,  6,  7,  8,  9, 10, 11, 12, 13, 14, 15, 16,\n",
       "        17, 18, 19, 20, 21, 22, 23, 24, 25]),\n",
       " <a list of 26 Text xticklabel objects>)"
      ]
     },
     "execution_count": 14,
     "metadata": {},
     "output_type": "execute_result"
    },
    {
     "data": {
      "image/png": "[encoded data removed]",
      "text/plain": [
       "<matplotlib.figure.Figure at 0x7feff899dc18>"
      ]
     },
     "metadata": {},
     "output_type": "display_data"
    }
   ],
   "source": [
    "sns.countplot(x = 'device', data=after_cohort)\n",
    "plt.xticks(rotation = -90)"
   ]
  },
  {
   "cell_type": "markdown",
   "metadata": {},
   "source": [
    "### Now we want to see what types of emails these users saw before and after the event"
   ]
  },
  {
   "cell_type": "code",
   "execution_count": 15,
   "metadata": {},
   "outputs": [
    {
     "data": {
      "text/html": [
       "<div>\n",
       "<style scoped>\n",
       "    .dataframe tbody tr th:only-of-type {\n",
       "        vertical-align: middle;\n",
       "    }\n",
       "\n",
       "    .dataframe tbody tr th {\n",
       "        vertical-align: top;\n",
       "    }\n",
       "\n",
       "    .dataframe thead th {\n",
       "        text-align: right;\n",
       "    }\n",
       "</style>\n",
       "<table border=\"1\" class=\"dataframe\">\n",
       "  <thead>\n",
       "    <tr style=\"text-align: right;\">\n",
       "      <th></th>\n",
       "      <th>user_id</th>\n",
       "      <th>occurred_at</th>\n",
       "      <th>action</th>\n",
       "      <th>user_type</th>\n",
       "      <th>after</th>\n",
       "    </tr>\n",
       "  </thead>\n",
       "  <tbody>\n",
       "    <tr>\n",
       "      <th>61</th>\n",
       "      <td>8.0</td>\n",
       "      <td>2014-07-22 09:30:00</td>\n",
       "      <td>sent_weekly_digest</td>\n",
       "      <td>3.0</td>\n",
       "      <td>False</td>\n",
       "    </tr>\n",
       "    <tr>\n",
       "      <th>62</th>\n",
       "      <td>8.0</td>\n",
       "      <td>2014-07-29 09:30:00</td>\n",
       "      <td>sent_weekly_digest</td>\n",
       "      <td>3.0</td>\n",
       "      <td>False</td>\n",
       "    </tr>\n",
       "    <tr>\n",
       "      <th>63</th>\n",
       "      <td>8.0</td>\n",
       "      <td>2014-07-29 09:30:27</td>\n",
       "      <td>email_open</td>\n",
       "      <td>3.0</td>\n",
       "      <td>False</td>\n",
       "    </tr>\n",
       "    <tr>\n",
       "      <th>64</th>\n",
       "      <td>8.0</td>\n",
       "      <td>2014-07-29 09:30:53</td>\n",
       "      <td>email_clickthrough</td>\n",
       "      <td>3.0</td>\n",
       "      <td>False</td>\n",
       "    </tr>\n",
       "    <tr>\n",
       "      <th>84</th>\n",
       "      <td>11.0</td>\n",
       "      <td>2014-07-22 09:30:00</td>\n",
       "      <td>sent_weekly_digest</td>\n",
       "      <td>1.0</td>\n",
       "      <td>False</td>\n",
       "    </tr>\n",
       "  </tbody>\n",
       "</table>\n",
       "</div>"
      ],
      "text/plain": [
       "    user_id         occurred_at              action  user_type  after\n",
       "61      8.0 2014-07-22 09:30:00  sent_weekly_digest        3.0  False\n",
       "62      8.0 2014-07-29 09:30:00  sent_weekly_digest        3.0  False\n",
       "63      8.0 2014-07-29 09:30:27          email_open        3.0  False\n",
       "64      8.0 2014-07-29 09:30:53  email_clickthrough        3.0  False\n",
       "84     11.0 2014-07-22 09:30:00  sent_weekly_digest        1.0  False"
      ]
     },
     "execution_count": 15,
     "metadata": {},
     "output_type": "execute_result"
    }
   ],
   "source": [
    "# get emails before and after event\n",
    "# get emails of engaged users from before jul 28 then segment their behaviour to see what happened to them after the 28 - this will require a join\n",
    "# then segment behaviour again \n",
    "\n",
    "emails['occurred_at'] = pd.to_datetime(emails['occurred_at'])\n",
    "emails['action'] = emails['action'].astype('category')\n",
    "\n",
    "emails_before = emails[(emails['occurred_at'] > before_start)&(emails['occurred_at'] < fail_time)]\n",
    "emails_after = emails[(emails['occurred_at'] >= fail_time)&(emails['occurred_at'] < after_end)]\n",
    "                       \n",
    "                     \n",
    "\n",
    "engaged_users_before = before_cohort['user_id'].unique()\n",
    "\n",
    "e_filter = []\n",
    "\n",
    "for i in range(len(emails_before)):\n",
    "    if emails_before['user_id'].iloc[i] in engaged_users_before:\n",
    "        e_filter += [True]\n",
    "    else:\n",
    "        e_filter += [False]\n",
    "        \n",
    "emails_before_engaged = emails_before[e_filter] \n",
    "\n",
    "e_filter = []\n",
    "\n",
    "for i in range(len(emails_after)):\n",
    "    if emails_after['user_id'].iloc[i] in engaged_users_before:\n",
    "        e_filter += [True]\n",
    "    else:\n",
    "        e_filter += [False]\n",
    "    \n",
    "emails_after_engaged = emails_after[e_filter]\n",
    "emails_after_unengaged = emails_after[np.logical_not(e_filter)]\n",
    "\n",
    "emails_engaged = pd.concat([emails_before_engaged, emails_after_engaged], axis = 0)\n",
    "emails_engaged['after'] = (emails['occurred_at'] >= fail_time) & (emails['occurred_at'] < after_end)\n",
    "emails_engaged.head()\n",
    "                                                               \n"
   ]
  },
  {
   "cell_type": "markdown",
   "metadata": {},
   "source": [
    "### Plot the engaged usser segmentation before and after"
   ]
  },
  {
   "cell_type": "code",
   "execution_count": 16,
   "metadata": {},
   "outputs": [
    {
     "data": {
      "text/plain": [
       "(array([0, 1, 2, 3]), <a list of 4 Text xticklabel objects>)"
      ]
     },
     "execution_count": 16,
     "metadata": {},
     "output_type": "execute_result"
    },
    {
     "data": {
      "image/png": "[encoded data removed]",
      "text/plain": [
       "<matplotlib.figure.Figure at 0x7feff899de10>"
      ]
     },
     "metadata": {},
     "output_type": "display_data"
    }
   ],
   "source": [
    "sns.countplot(x = 'action', data = emails_engaged, hue = 'after')\n",
    "plt.xticks(rotation = -45)"
   ]
  },
  {
   "cell_type": "code",
   "execution_count": 17,
   "metadata": {
    "scrolled": false
   },
   "outputs": [
    {
     "data": {
      "text/plain": [
       "(array([0, 1, 2, 3]), <a list of 4 Text xticklabel objects>)"
      ]
     },
     "execution_count": 17,
     "metadata": {},
     "output_type": "execute_result"
    },
    {
     "data": {
      "image/png": "[encoded data removed]",
      "text/plain": [
       "<matplotlib.figure.Figure at 0x7feff8129358>"
      ]
     },
     "metadata": {},
     "output_type": "display_data"
    }
   ],
   "source": [
    "sns.countplot(x = 'action', data = emails_before_engaged)\n",
    "plt.xticks(rotation = -45)\n"
   ]
  },
  {
   "cell_type": "code",
   "execution_count": 18,
   "metadata": {},
   "outputs": [
    {
     "data": {
      "text/plain": [
       "(array([0, 1, 2, 3]), <a list of 4 Text xticklabel objects>)"
      ]
     },
     "execution_count": 18,
     "metadata": {},
     "output_type": "execute_result"
    },
    {
     "data": {
      "image/png": "[encoded data removed]",
      "text/plain": [
       "<matplotlib.figure.Figure at 0x7feff9af12b0>"
      ]
     },
     "metadata": {},
     "output_type": "display_data"
    }
   ],
   "source": [
    "sns.countplot(x = 'action', data = emails_after_engaged)\n",
    "plt.xticks(rotation = -45)"
   ]
  },
  {
   "cell_type": "code",
   "execution_count": 19,
   "metadata": {},
   "outputs": [
    {
     "data": {
      "text/plain": [
       "(array([0, 1, 2, 3]), <a list of 4 Text xticklabel objects>)"
      ]
     },
     "execution_count": 19,
     "metadata": {},
     "output_type": "execute_result"
    },
    {
     "data": {
      "image/png": "[encoded data removed]",
      "text/plain": [
       "<matplotlib.figure.Figure at 0x7feff8058198>"
      ]
     },
     "metadata": {},
     "output_type": "display_data"
    }
   ],
   "source": [
    "sns.countplot(x = 'action', data = emails_after_unengaged)\n",
    "plt.xticks(rotation = -45)"
   ]
  },
  {
   "cell_type": "markdown",
   "metadata": {},
   "source": [
    "## Modeling / Testing\n",
    "\n",
    "we want to make sure that the equality of porportions is different betweeen before and after"
   ]
  },
  {
   "cell_type": "code",
   "execution_count": 20,
   "metadata": {},
   "outputs": [
    {
     "name": "stdout",
     "output_type": "stream",
     "text": [
      "[1067, 2496, 248, 1469]\n"
     ]
    }
   ],
   "source": [
    "from scipy.stats import chisquare\n",
    "import numpy as np\n",
    "\n",
    "obs = [emails_before_engaged['action'].value_counts()['email_clickthrough'], emails_before_engaged['action'].value_counts()['sent_weekly_digest']]\n",
    "exp = [emails_after_engaged['action'].value_counts()['email_clickthrough'], emails_after_engaged['action'].value_counts()['sent_weekly_digest']]\n",
    "obs1 = [emails_after_unengaged['action'].value_counts()['email_clickthrough'], emails_after_unengaged['action'].value_counts()['sent_weekly_digest']]\n",
    "obs = obs + exp \n",
    "\n",
    "marginals = [5639,1900,3912,7651]\n",
    "total = sum(marginals)\n",
    "\n",
    "print(obs)\n"
   ]
  },
  {
   "cell_type": "markdown",
   "metadata": {},
   "source": [
    "## Solution\n",
    "\n",
    "### possible problems to explore\n",
    "Fallout ( a new feature was added and others were upset they didn't see it )\n",
    "\n",
    "A bad feature was added ( people didn't like it and left )\n",
    "\n",
    "An email marketing failed ( people didn't like the email and left )\n",
    "\n",
    "Server Crashed\n",
    "\n",
    "### Evaluation of analysis\n",
    "So far we've identified that the majority of the users speak english, there is a 50/50 split on active vs pending\n",
    "\n",
    "the engaged cohort looks very similar before and after, they have the same locations, and similar event_names, and even similar device distributions\n",
    "\n",
    "there appears to be a big loss all around ( by about a factor of 2 )\n",
    "\n",
    "It appears that while the number of weekly digets sent were similar in number ( 2496 before , 1648 after), the clickthrough rate dramatically decreased ( 1067 before, 197 after ), that is the porportion of clickthrough / digest sent = (0.42 before vs 0.11 after) for users who were engaged before jul 28\n",
    "\n",
    "this analysis is incomplete as i need to also consider the users who were engaged before, weren't engaged after, but still recieved the emails... ( there were 1000 users who were engaged before but left the following week, in order for there not to be a difference 800 would have had to clickthrough )\n",
    "\n",
    "\n",
    "### Recommendations\n",
    "\n",
    "Identify what happened to the weekly digest before and after this date to understand why the clickthrough rate dropped so dramatically  \n"
   ]
  },
  {
   "cell_type": "code",
   "execution_count": null,
   "metadata": {},
   "outputs": [],
   "source": []
  }
 ],
 "metadata": {
  "kernelspec": {
   "display_name": "Python 3",
   "language": "python",
   "name": "python3"
  },
  "language_info": {
   "codemirror_mode": {
    "name": "ipython",
    "version": 3
   },
   "file_extension": ".py",
   "mimetype": "text/x-python",
   "name": "python",
   "nbconvert_exporter": "python",
   "pygments_lexer": "ipython3",
   "version": "3.6.4"
  }
 },
 "nbformat": 4,
 "nbformat_minor": 2
}
