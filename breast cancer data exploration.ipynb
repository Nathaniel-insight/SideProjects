{
 "cells": [
  {
   "cell_type": "markdown",
   "metadata": {},
   "source": [
    "## Purpose\n",
    "\n",
    "explore and model breast-cancer data from 1989-1991"
   ]
  },
  {
   "cell_type": "code",
   "execution_count": 1,
   "metadata": {},
   "outputs": [],
   "source": [
    "import pandas as pd\n",
    "import numpy as np\n",
    "import matplotlib.pyplot as plt\n",
    "import seaborn as sns\n",
    "from sklearn.linear_model import LogisticRegression\n",
    "from sklearn.svm import SVC\n",
    "from sklearn.model_selection import train_test_split\n",
    "from sklearn.metrics import confusion_matrix, classification_report, roc_curve, auc, roc_auc_score"
   ]
  },
  {
   "cell_type": "code",
   "execution_count": 2,
   "metadata": {},
   "outputs": [],
   "source": [
    "input_data_path = '../../data/input/'\n",
    "output_data_path = '../../data/output/'\n",
    "working_data_path = '../../data/working/'"
   ]
  },
  {
   "cell_type": "code",
   "execution_count": 3,
   "metadata": {},
   "outputs": [
    {
     "data": {
      "text/html": [
       "<div>\n",
       "<style scoped>\n",
       "    .dataframe tbody tr th:only-of-type {\n",
       "        vertical-align: middle;\n",
       "    }\n",
       "\n",
       "    .dataframe tbody tr th {\n",
       "        vertical-align: top;\n",
       "    }\n",
       "\n",
       "    .dataframe thead th {\n",
       "        text-align: right;\n",
       "    }\n",
       "</style>\n",
       "<table border=\"1\" class=\"dataframe\">\n",
       "  <thead>\n",
       "    <tr style=\"text-align: right;\">\n",
       "      <th></th>\n",
       "      <th>id</th>\n",
       "      <th>clump</th>\n",
       "      <th>u_cel_size</th>\n",
       "      <th>u_cel_shape</th>\n",
       "      <th>m_adhesion</th>\n",
       "      <th>single_cell_size</th>\n",
       "      <th>bare_nuclei</th>\n",
       "      <th>bland_chromatin</th>\n",
       "      <th>n_nucleoli</th>\n",
       "      <th>mitosis</th>\n",
       "      <th>class</th>\n",
       "    </tr>\n",
       "  </thead>\n",
       "  <tbody>\n",
       "    <tr>\n",
       "      <th>0</th>\n",
       "      <td>1000025</td>\n",
       "      <td>5</td>\n",
       "      <td>1</td>\n",
       "      <td>1</td>\n",
       "      <td>1</td>\n",
       "      <td>2</td>\n",
       "      <td>1</td>\n",
       "      <td>3</td>\n",
       "      <td>1</td>\n",
       "      <td>1</td>\n",
       "      <td>2</td>\n",
       "    </tr>\n",
       "    <tr>\n",
       "      <th>1</th>\n",
       "      <td>1002945</td>\n",
       "      <td>5</td>\n",
       "      <td>4</td>\n",
       "      <td>4</td>\n",
       "      <td>5</td>\n",
       "      <td>7</td>\n",
       "      <td>10</td>\n",
       "      <td>3</td>\n",
       "      <td>2</td>\n",
       "      <td>1</td>\n",
       "      <td>2</td>\n",
       "    </tr>\n",
       "    <tr>\n",
       "      <th>2</th>\n",
       "      <td>1015425</td>\n",
       "      <td>3</td>\n",
       "      <td>1</td>\n",
       "      <td>1</td>\n",
       "      <td>1</td>\n",
       "      <td>2</td>\n",
       "      <td>2</td>\n",
       "      <td>3</td>\n",
       "      <td>1</td>\n",
       "      <td>1</td>\n",
       "      <td>2</td>\n",
       "    </tr>\n",
       "    <tr>\n",
       "      <th>3</th>\n",
       "      <td>1016277</td>\n",
       "      <td>6</td>\n",
       "      <td>8</td>\n",
       "      <td>8</td>\n",
       "      <td>1</td>\n",
       "      <td>3</td>\n",
       "      <td>4</td>\n",
       "      <td>3</td>\n",
       "      <td>7</td>\n",
       "      <td>1</td>\n",
       "      <td>2</td>\n",
       "    </tr>\n",
       "    <tr>\n",
       "      <th>4</th>\n",
       "      <td>1017023</td>\n",
       "      <td>4</td>\n",
       "      <td>1</td>\n",
       "      <td>1</td>\n",
       "      <td>3</td>\n",
       "      <td>2</td>\n",
       "      <td>1</td>\n",
       "      <td>3</td>\n",
       "      <td>1</td>\n",
       "      <td>1</td>\n",
       "      <td>2</td>\n",
       "    </tr>\n",
       "  </tbody>\n",
       "</table>\n",
       "</div>"
      ],
      "text/plain": [
       "        id  clump  u_cel_size  u_cel_shape  m_adhesion  single_cell_size  \\\n",
       "0  1000025      5           1            1           1                 2   \n",
       "1  1002945      5           4            4           5                 7   \n",
       "2  1015425      3           1            1           1                 2   \n",
       "3  1016277      6           8            8           1                 3   \n",
       "4  1017023      4           1            1           3                 2   \n",
       "\n",
       "  bare_nuclei  bland_chromatin  n_nucleoli  mitosis  class  \n",
       "0           1                3           1        1      2  \n",
       "1          10                3           2        1      2  \n",
       "2           2                3           1        1      2  \n",
       "3           4                3           7        1      2  \n",
       "4           1                3           1        1      2  "
      ]
     },
     "execution_count": 3,
     "metadata": {},
     "output_type": "execute_result"
    }
   ],
   "source": [
    "headers = ['id','clump','u_cel_size','u_cel_shape','m_adhesion','single_cell_size','bare_nuclei','bland_chromatin','n_nucleoli','mitosis','class']\n",
    "raw_data = pd.read_csv('{}{}'.format(input_data_path,'breast-cancer-data.csv'), header = None, names = headers)\n",
    "raw_data.to_csv('{}{}'.format(working_data_path,'breast-cancer-dataframe.csv'))\n",
    "raw_data.head()"
   ]
  },
  {
   "cell_type": "code",
   "execution_count": 4,
   "metadata": {},
   "outputs": [],
   "source": [
    "def run_log_reg(dataframe, features, label = 'y', random_state = 1, test_size = 0.3):\n",
    "    \n",
    "    X = dataframe[features]\n",
    "    y = dataframe[label]\n",
    "\n",
    "    X_train, X_test, y_train, y_test = train_test_split(X.values, y.values, test_size = test_size, random_state = random_state)\n",
    "\n",
    "    log_reg = LogisticRegression()\n",
    "    log_reg.fit(X_train,y_train)\n",
    "\n",
    "    y_pred = log_reg.predict(X_test)\n",
    "    \n",
    "    model_score = log_reg.score(X_test,y_test)\n",
    "\n",
    "    model_fpr, model_tpr, model_thresh = roc_curve(y_test, log_reg.decision_function(X_test), pos_label = 1)\n",
    "    model_roc = {'fpr':model_fpr, 'tpr':model_tpr, 'thresh':model_thresh}\n",
    "    model_roc = pd.DataFrame(model_roc)\n",
    "\n",
    "    #sns.pointplot(x = 'fpr', y = 'tpr', data = model_roc)\n",
    "\n",
    "    model_auc = roc_auc_score(y_test, log_reg.decision_function(X_test))\n",
    "    return model_score, model_roc, model_auc"
   ]
  },
  {
   "cell_type": "code",
   "execution_count": 5,
   "metadata": {},
   "outputs": [
    {
     "data": {
      "text/plain": [
       "<matplotlib.axes._subplots.AxesSubplot at 0x7fa93431b7f0>"
      ]
     },
     "execution_count": 5,
     "metadata": {},
     "output_type": "execute_result"
    },
    {
     "data": {
      "image/png": "[encoded data removed]",
      "text/plain": [
       "<matplotlib.figure.Figure at 0x7fa9643b2208>"
      ]
     },
     "metadata": {},
     "output_type": "display_data"
    }
   ],
   "source": [
    "sns.countplot(x = 'class', data = raw_data)"
   ]
  },
  {
   "cell_type": "code",
   "execution_count": 6,
   "metadata": {},
   "outputs": [
    {
     "data": {
      "text/html": [
       "<div>\n",
       "<style scoped>\n",
       "    .dataframe tbody tr th:only-of-type {\n",
       "        vertical-align: middle;\n",
       "    }\n",
       "\n",
       "    .dataframe tbody tr th {\n",
       "        vertical-align: top;\n",
       "    }\n",
       "\n",
       "    .dataframe thead th {\n",
       "        text-align: right;\n",
       "    }\n",
       "</style>\n",
       "<table border=\"1\" class=\"dataframe\">\n",
       "  <thead>\n",
       "    <tr style=\"text-align: right;\">\n",
       "      <th></th>\n",
       "      <th>id</th>\n",
       "      <th>clump</th>\n",
       "      <th>u_cel_size</th>\n",
       "      <th>u_cel_shape</th>\n",
       "      <th>m_adhesion</th>\n",
       "      <th>single_cell_size</th>\n",
       "      <th>bare_nuclei</th>\n",
       "      <th>bland_chromatin</th>\n",
       "      <th>n_nucleoli</th>\n",
       "      <th>mitosis</th>\n",
       "      <th>class</th>\n",
       "    </tr>\n",
       "  </thead>\n",
       "  <tbody>\n",
       "    <tr>\n",
       "      <th>0</th>\n",
       "      <td>1000025</td>\n",
       "      <td>5</td>\n",
       "      <td>1</td>\n",
       "      <td>1</td>\n",
       "      <td>1</td>\n",
       "      <td>2</td>\n",
       "      <td>1</td>\n",
       "      <td>3</td>\n",
       "      <td>1</td>\n",
       "      <td>1</td>\n",
       "      <td>2</td>\n",
       "    </tr>\n",
       "    <tr>\n",
       "      <th>1</th>\n",
       "      <td>1002945</td>\n",
       "      <td>5</td>\n",
       "      <td>4</td>\n",
       "      <td>4</td>\n",
       "      <td>5</td>\n",
       "      <td>7</td>\n",
       "      <td>10</td>\n",
       "      <td>3</td>\n",
       "      <td>2</td>\n",
       "      <td>1</td>\n",
       "      <td>2</td>\n",
       "    </tr>\n",
       "    <tr>\n",
       "      <th>2</th>\n",
       "      <td>1015425</td>\n",
       "      <td>3</td>\n",
       "      <td>1</td>\n",
       "      <td>1</td>\n",
       "      <td>1</td>\n",
       "      <td>2</td>\n",
       "      <td>2</td>\n",
       "      <td>3</td>\n",
       "      <td>1</td>\n",
       "      <td>1</td>\n",
       "      <td>2</td>\n",
       "    </tr>\n",
       "    <tr>\n",
       "      <th>3</th>\n",
       "      <td>1016277</td>\n",
       "      <td>6</td>\n",
       "      <td>8</td>\n",
       "      <td>8</td>\n",
       "      <td>1</td>\n",
       "      <td>3</td>\n",
       "      <td>4</td>\n",
       "      <td>3</td>\n",
       "      <td>7</td>\n",
       "      <td>1</td>\n",
       "      <td>2</td>\n",
       "    </tr>\n",
       "    <tr>\n",
       "      <th>4</th>\n",
       "      <td>1017023</td>\n",
       "      <td>4</td>\n",
       "      <td>1</td>\n",
       "      <td>1</td>\n",
       "      <td>3</td>\n",
       "      <td>2</td>\n",
       "      <td>1</td>\n",
       "      <td>3</td>\n",
       "      <td>1</td>\n",
       "      <td>1</td>\n",
       "      <td>2</td>\n",
       "    </tr>\n",
       "  </tbody>\n",
       "</table>\n",
       "</div>"
      ],
      "text/plain": [
       "        id  clump  u_cel_size  u_cel_shape  m_adhesion  single_cell_size  \\\n",
       "0  1000025      5           1            1           1                 2   \n",
       "1  1002945      5           4            4           5                 7   \n",
       "2  1015425      3           1            1           1                 2   \n",
       "3  1016277      6           8            8           1                 3   \n",
       "4  1017023      4           1            1           3                 2   \n",
       "\n",
       "  bare_nuclei  bland_chromatin  n_nucleoli  mitosis  class  \n",
       "0           1                3           1        1      2  \n",
       "1          10                3           2        1      2  \n",
       "2           2                3           1        1      2  \n",
       "3           4                3           7        1      2  \n",
       "4           1                3           1        1      2  "
      ]
     },
     "execution_count": 6,
     "metadata": {},
     "output_type": "execute_result"
    }
   ],
   "source": [
    "t_data = raw_data\n",
    "t_data.to_csv('{}{}'.format(working_data_path,'transformed'))\n",
    "t_data.head()"
   ]
  },
  {
   "cell_type": "code",
   "execution_count": 7,
   "metadata": {},
   "outputs": [
    {
     "data": {
      "text/html": [
       "<div>\n",
       "<style scoped>\n",
       "    .dataframe tbody tr th:only-of-type {\n",
       "        vertical-align: middle;\n",
       "    }\n",
       "\n",
       "    .dataframe tbody tr th {\n",
       "        vertical-align: top;\n",
       "    }\n",
       "\n",
       "    .dataframe thead th {\n",
       "        text-align: right;\n",
       "    }\n",
       "</style>\n",
       "<table border=\"1\" class=\"dataframe\">\n",
       "  <thead>\n",
       "    <tr style=\"text-align: right;\">\n",
       "      <th></th>\n",
       "      <th>id</th>\n",
       "      <th>clump</th>\n",
       "      <th>u_cel_size</th>\n",
       "      <th>u_cel_shape</th>\n",
       "      <th>m_adhesion</th>\n",
       "      <th>single_cell_size</th>\n",
       "      <th>bare_nuclei</th>\n",
       "      <th>bland_chromatin</th>\n",
       "      <th>n_nucleoli</th>\n",
       "      <th>mitosis</th>\n",
       "      <th>class</th>\n",
       "      <th>y</th>\n",
       "    </tr>\n",
       "  </thead>\n",
       "  <tbody>\n",
       "    <tr>\n",
       "      <th>0</th>\n",
       "      <td>1000025</td>\n",
       "      <td>5</td>\n",
       "      <td>1</td>\n",
       "      <td>1</td>\n",
       "      <td>1</td>\n",
       "      <td>2</td>\n",
       "      <td>1</td>\n",
       "      <td>3</td>\n",
       "      <td>1</td>\n",
       "      <td>1</td>\n",
       "      <td>2</td>\n",
       "      <td>0</td>\n",
       "    </tr>\n",
       "    <tr>\n",
       "      <th>1</th>\n",
       "      <td>1002945</td>\n",
       "      <td>5</td>\n",
       "      <td>4</td>\n",
       "      <td>4</td>\n",
       "      <td>5</td>\n",
       "      <td>7</td>\n",
       "      <td>10</td>\n",
       "      <td>3</td>\n",
       "      <td>2</td>\n",
       "      <td>1</td>\n",
       "      <td>2</td>\n",
       "      <td>0</td>\n",
       "    </tr>\n",
       "    <tr>\n",
       "      <th>2</th>\n",
       "      <td>1015425</td>\n",
       "      <td>3</td>\n",
       "      <td>1</td>\n",
       "      <td>1</td>\n",
       "      <td>1</td>\n",
       "      <td>2</td>\n",
       "      <td>2</td>\n",
       "      <td>3</td>\n",
       "      <td>1</td>\n",
       "      <td>1</td>\n",
       "      <td>2</td>\n",
       "      <td>0</td>\n",
       "    </tr>\n",
       "    <tr>\n",
       "      <th>3</th>\n",
       "      <td>1016277</td>\n",
       "      <td>6</td>\n",
       "      <td>8</td>\n",
       "      <td>8</td>\n",
       "      <td>1</td>\n",
       "      <td>3</td>\n",
       "      <td>4</td>\n",
       "      <td>3</td>\n",
       "      <td>7</td>\n",
       "      <td>1</td>\n",
       "      <td>2</td>\n",
       "      <td>0</td>\n",
       "    </tr>\n",
       "    <tr>\n",
       "      <th>4</th>\n",
       "      <td>1017023</td>\n",
       "      <td>4</td>\n",
       "      <td>1</td>\n",
       "      <td>1</td>\n",
       "      <td>3</td>\n",
       "      <td>2</td>\n",
       "      <td>1</td>\n",
       "      <td>3</td>\n",
       "      <td>1</td>\n",
       "      <td>1</td>\n",
       "      <td>2</td>\n",
       "      <td>0</td>\n",
       "    </tr>\n",
       "  </tbody>\n",
       "</table>\n",
       "</div>"
      ],
      "text/plain": [
       "        id  clump  u_cel_size  u_cel_shape  m_adhesion  single_cell_size  \\\n",
       "0  1000025      5           1            1           1                 2   \n",
       "1  1002945      5           4            4           5                 7   \n",
       "2  1015425      3           1            1           1                 2   \n",
       "3  1016277      6           8            8           1                 3   \n",
       "4  1017023      4           1            1           3                 2   \n",
       "\n",
       "  bare_nuclei  bland_chromatin  n_nucleoli  mitosis  class  y  \n",
       "0           1                3           1        1      2  0  \n",
       "1          10                3           2        1      2  0  \n",
       "2           2                3           1        1      2  0  \n",
       "3           4                3           7        1      2  0  \n",
       "4           1                3           1        1      2  0  "
      ]
     },
     "execution_count": 7,
     "metadata": {},
     "output_type": "execute_result"
    }
   ],
   "source": [
    "test = t_data['class'] == 4\n",
    "test.astype(int)\n",
    "\n",
    "t_data['y'] = test.astype(int)\n",
    "\n",
    "t_data.to_csv('{}{}'.format(working_data_path,'transformed2'))\n",
    "\n",
    "t_data.head()"
   ]
  },
  {
   "cell_type": "code",
   "execution_count": 8,
   "metadata": {},
   "outputs": [
    {
     "data": {
      "text/html": [
       "<div>\n",
       "<style scoped>\n",
       "    .dataframe tbody tr th:only-of-type {\n",
       "        vertical-align: middle;\n",
       "    }\n",
       "\n",
       "    .dataframe tbody tr th {\n",
       "        vertical-align: top;\n",
       "    }\n",
       "\n",
       "    .dataframe thead th {\n",
       "        text-align: right;\n",
       "    }\n",
       "</style>\n",
       "<table border=\"1\" class=\"dataframe\">\n",
       "  <thead>\n",
       "    <tr style=\"text-align: right;\">\n",
       "      <th></th>\n",
       "      <th>id</th>\n",
       "      <th>clump</th>\n",
       "      <th>u_cel_size</th>\n",
       "      <th>u_cel_shape</th>\n",
       "      <th>m_adhesion</th>\n",
       "      <th>single_cell_size</th>\n",
       "      <th>bare_nuclei</th>\n",
       "      <th>bland_chromatin</th>\n",
       "      <th>n_nucleoli</th>\n",
       "      <th>mitosis</th>\n",
       "      <th>class</th>\n",
       "      <th>y</th>\n",
       "    </tr>\n",
       "  </thead>\n",
       "  <tbody>\n",
       "    <tr>\n",
       "      <th>count</th>\n",
       "      <td>699</td>\n",
       "      <td>699</td>\n",
       "      <td>699</td>\n",
       "      <td>699</td>\n",
       "      <td>699</td>\n",
       "      <td>699</td>\n",
       "      <td>699</td>\n",
       "      <td>699</td>\n",
       "      <td>699</td>\n",
       "      <td>699</td>\n",
       "      <td>699</td>\n",
       "      <td>699</td>\n",
       "    </tr>\n",
       "    <tr>\n",
       "      <th>unique</th>\n",
       "      <td>1</td>\n",
       "      <td>1</td>\n",
       "      <td>1</td>\n",
       "      <td>1</td>\n",
       "      <td>1</td>\n",
       "      <td>1</td>\n",
       "      <td>1</td>\n",
       "      <td>1</td>\n",
       "      <td>1</td>\n",
       "      <td>1</td>\n",
       "      <td>1</td>\n",
       "      <td>1</td>\n",
       "    </tr>\n",
       "    <tr>\n",
       "      <th>top</th>\n",
       "      <td>False</td>\n",
       "      <td>False</td>\n",
       "      <td>False</td>\n",
       "      <td>False</td>\n",
       "      <td>False</td>\n",
       "      <td>False</td>\n",
       "      <td>False</td>\n",
       "      <td>False</td>\n",
       "      <td>False</td>\n",
       "      <td>False</td>\n",
       "      <td>False</td>\n",
       "      <td>False</td>\n",
       "    </tr>\n",
       "    <tr>\n",
       "      <th>freq</th>\n",
       "      <td>699</td>\n",
       "      <td>699</td>\n",
       "      <td>699</td>\n",
       "      <td>699</td>\n",
       "      <td>699</td>\n",
       "      <td>699</td>\n",
       "      <td>699</td>\n",
       "      <td>699</td>\n",
       "      <td>699</td>\n",
       "      <td>699</td>\n",
       "      <td>699</td>\n",
       "      <td>699</td>\n",
       "    </tr>\n",
       "  </tbody>\n",
       "</table>\n",
       "</div>"
      ],
      "text/plain": [
       "           id  clump u_cel_size u_cel_shape m_adhesion single_cell_size  \\\n",
       "count     699    699        699         699        699              699   \n",
       "unique      1      1          1           1          1                1   \n",
       "top     False  False      False       False      False            False   \n",
       "freq      699    699        699         699        699              699   \n",
       "\n",
       "       bare_nuclei bland_chromatin n_nucleoli mitosis  class      y  \n",
       "count          699             699        699     699    699    699  \n",
       "unique           1               1          1       1      1      1  \n",
       "top          False           False      False   False  False  False  \n",
       "freq           699             699        699     699    699    699  "
      ]
     },
     "execution_count": 8,
     "metadata": {},
     "output_type": "execute_result"
    }
   ],
   "source": [
    "null = t_data.isnull()\n",
    "null.describe()\n",
    "# no nulls"
   ]
  },
  {
   "cell_type": "code",
   "execution_count": 9,
   "metadata": {},
   "outputs": [
    {
     "data": {
      "text/html": [
       "<div>\n",
       "<style scoped>\n",
       "    .dataframe tbody tr th:only-of-type {\n",
       "        vertical-align: middle;\n",
       "    }\n",
       "\n",
       "    .dataframe tbody tr th {\n",
       "        vertical-align: top;\n",
       "    }\n",
       "\n",
       "    .dataframe thead th {\n",
       "        text-align: right;\n",
       "    }\n",
       "</style>\n",
       "<table border=\"1\" class=\"dataframe\">\n",
       "  <thead>\n",
       "    <tr style=\"text-align: right;\">\n",
       "      <th></th>\n",
       "      <th>id</th>\n",
       "      <th>clump</th>\n",
       "      <th>u_cel_size</th>\n",
       "      <th>u_cel_shape</th>\n",
       "      <th>m_adhesion</th>\n",
       "      <th>single_cell_size</th>\n",
       "      <th>bland_chromatin</th>\n",
       "      <th>n_nucleoli</th>\n",
       "      <th>mitosis</th>\n",
       "      <th>class</th>\n",
       "      <th>y</th>\n",
       "    </tr>\n",
       "  </thead>\n",
       "  <tbody>\n",
       "    <tr>\n",
       "      <th>count</th>\n",
       "      <td>6.910000e+02</td>\n",
       "      <td>691.000000</td>\n",
       "      <td>691.000000</td>\n",
       "      <td>691.000000</td>\n",
       "      <td>691.000000</td>\n",
       "      <td>691.000000</td>\n",
       "      <td>691.000000</td>\n",
       "      <td>691.000000</td>\n",
       "      <td>691.000000</td>\n",
       "      <td>691.000000</td>\n",
       "      <td>691.000000</td>\n",
       "    </tr>\n",
       "    <tr>\n",
       "      <th>mean</th>\n",
       "      <td>1.073333e+06</td>\n",
       "      <td>4.426918</td>\n",
       "      <td>3.130246</td>\n",
       "      <td>3.201158</td>\n",
       "      <td>2.824891</td>\n",
       "      <td>3.211288</td>\n",
       "      <td>3.435601</td>\n",
       "      <td>2.882779</td>\n",
       "      <td>1.593343</td>\n",
       "      <td>2.688857</td>\n",
       "      <td>0.344428</td>\n",
       "    </tr>\n",
       "    <tr>\n",
       "      <th>std</th>\n",
       "      <td>6.192953e+05</td>\n",
       "      <td>2.815861</td>\n",
       "      <td>3.041328</td>\n",
       "      <td>2.959886</td>\n",
       "      <td>2.866552</td>\n",
       "      <td>2.199852</td>\n",
       "      <td>2.442345</td>\n",
       "      <td>3.066298</td>\n",
       "      <td>1.723129</td>\n",
       "      <td>0.951051</td>\n",
       "      <td>0.475526</td>\n",
       "    </tr>\n",
       "    <tr>\n",
       "      <th>min</th>\n",
       "      <td>6.163400e+04</td>\n",
       "      <td>1.000000</td>\n",
       "      <td>1.000000</td>\n",
       "      <td>1.000000</td>\n",
       "      <td>1.000000</td>\n",
       "      <td>1.000000</td>\n",
       "      <td>1.000000</td>\n",
       "      <td>1.000000</td>\n",
       "      <td>1.000000</td>\n",
       "      <td>2.000000</td>\n",
       "      <td>0.000000</td>\n",
       "    </tr>\n",
       "    <tr>\n",
       "      <th>25%</th>\n",
       "      <td>8.725490e+05</td>\n",
       "      <td>2.000000</td>\n",
       "      <td>1.000000</td>\n",
       "      <td>1.000000</td>\n",
       "      <td>1.000000</td>\n",
       "      <td>2.000000</td>\n",
       "      <td>2.000000</td>\n",
       "      <td>1.000000</td>\n",
       "      <td>1.000000</td>\n",
       "      <td>2.000000</td>\n",
       "      <td>0.000000</td>\n",
       "    </tr>\n",
       "    <tr>\n",
       "      <th>50%</th>\n",
       "      <td>1.171710e+06</td>\n",
       "      <td>4.000000</td>\n",
       "      <td>1.000000</td>\n",
       "      <td>1.000000</td>\n",
       "      <td>1.000000</td>\n",
       "      <td>2.000000</td>\n",
       "      <td>3.000000</td>\n",
       "      <td>1.000000</td>\n",
       "      <td>1.000000</td>\n",
       "      <td>2.000000</td>\n",
       "      <td>0.000000</td>\n",
       "    </tr>\n",
       "    <tr>\n",
       "      <th>75%</th>\n",
       "      <td>1.238437e+06</td>\n",
       "      <td>6.000000</td>\n",
       "      <td>5.000000</td>\n",
       "      <td>5.000000</td>\n",
       "      <td>4.000000</td>\n",
       "      <td>4.000000</td>\n",
       "      <td>5.000000</td>\n",
       "      <td>4.000000</td>\n",
       "      <td>1.000000</td>\n",
       "      <td>4.000000</td>\n",
       "      <td>1.000000</td>\n",
       "    </tr>\n",
       "    <tr>\n",
       "      <th>max</th>\n",
       "      <td>1.345435e+07</td>\n",
       "      <td>10.000000</td>\n",
       "      <td>10.000000</td>\n",
       "      <td>10.000000</td>\n",
       "      <td>10.000000</td>\n",
       "      <td>10.000000</td>\n",
       "      <td>10.000000</td>\n",
       "      <td>10.000000</td>\n",
       "      <td>10.000000</td>\n",
       "      <td>4.000000</td>\n",
       "      <td>1.000000</td>\n",
       "    </tr>\n",
       "  </tbody>\n",
       "</table>\n",
       "</div>"
      ],
      "text/plain": [
       "                 id       clump  u_cel_size  u_cel_shape  m_adhesion  \\\n",
       "count  6.910000e+02  691.000000  691.000000   691.000000  691.000000   \n",
       "mean   1.073333e+06    4.426918    3.130246     3.201158    2.824891   \n",
       "std    6.192953e+05    2.815861    3.041328     2.959886    2.866552   \n",
       "min    6.163400e+04    1.000000    1.000000     1.000000    1.000000   \n",
       "25%    8.725490e+05    2.000000    1.000000     1.000000    1.000000   \n",
       "50%    1.171710e+06    4.000000    1.000000     1.000000    1.000000   \n",
       "75%    1.238437e+06    6.000000    5.000000     5.000000    4.000000   \n",
       "max    1.345435e+07   10.000000   10.000000    10.000000   10.000000   \n",
       "\n",
       "       single_cell_size  bland_chromatin  n_nucleoli     mitosis       class  \\\n",
       "count        691.000000       691.000000  691.000000  691.000000  691.000000   \n",
       "mean           3.211288         3.435601    2.882779    1.593343    2.688857   \n",
       "std            2.199852         2.442345    3.066298    1.723129    0.951051   \n",
       "min            1.000000         1.000000    1.000000    1.000000    2.000000   \n",
       "25%            2.000000         2.000000    1.000000    1.000000    2.000000   \n",
       "50%            2.000000         3.000000    1.000000    1.000000    2.000000   \n",
       "75%            4.000000         5.000000    4.000000    1.000000    4.000000   \n",
       "max           10.000000        10.000000   10.000000   10.000000    4.000000   \n",
       "\n",
       "                y  \n",
       "count  691.000000  \n",
       "mean     0.344428  \n",
       "std      0.475526  \n",
       "min      0.000000  \n",
       "25%      0.000000  \n",
       "50%      0.000000  \n",
       "75%      1.000000  \n",
       "max      1.000000  "
      ]
     },
     "execution_count": 9,
     "metadata": {},
     "output_type": "execute_result"
    }
   ],
   "source": [
    "# duplicates\n",
    "not_dup = t_data.drop_duplicates()\n",
    "not_dup.describe()\n",
    "# lots of duplicates"
   ]
  },
  {
   "cell_type": "code",
   "execution_count": 10,
   "metadata": {},
   "outputs": [
    {
     "data": {
      "text/plain": [
       "<matplotlib.axes._subplots.AxesSubplot at 0x7fa92bc8cdd8>"
      ]
     },
     "execution_count": 10,
     "metadata": {},
     "output_type": "execute_result"
    },
    {
     "data": {
      "image/png": "[encoded data removed]",
      "text/plain": [
       "<matplotlib.figure.Figure at 0x7fa92bce8e10>"
      ]
     },
     "metadata": {},
     "output_type": "display_data"
    }
   ],
   "source": [
    "t_data = t_data.drop_duplicates()\n",
    "t_data.to_csv('{}{}'.format(working_data_path,'transformed3'))\n",
    "sns.countplot(x ='y', data = t_data)"
   ]
  },
  {
   "cell_type": "code",
   "execution_count": 11,
   "metadata": {},
   "outputs": [
    {
     "data": {
      "text/plain": [
       "<matplotlib.axes._subplots.AxesSubplot at 0x7fa92b94b240>"
      ]
     },
     "execution_count": 11,
     "metadata": {},
     "output_type": "execute_result"
    },
    {
     "data": {
      "image/png": "[encoded data removed]",
      "text/plain": [
       "<matplotlib.figure.Figure at 0x7fa92bd26668>"
      ]
     },
     "metadata": {},
     "output_type": "display_data"
    }
   ],
   "source": [
    "corr = t_data.corr()\n",
    "\n",
    "corr.to_csv('{}{}'.format(output_data_path,'corr_heat_map'))\n",
    "\n",
    "sns.heatmap(corr, annot = True)"
   ]
  },
  {
   "cell_type": "code",
   "execution_count": 12,
   "metadata": {},
   "outputs": [
    {
     "data": {
      "text/plain": [
       "<matplotlib.axes._subplots.AxesSubplot at 0x7fa92b971e48>"
      ]
     },
     "execution_count": 12,
     "metadata": {},
     "output_type": "execute_result"
    },
    {
     "data": {
      "image/png": "[encoded data removed]",
      "text/plain": [
       "<matplotlib.figure.Figure at 0x7fa92bd36160>"
      ]
     },
     "metadata": {},
     "output_type": "display_data"
    }
   ],
   "source": [
    "# u_cel_size and u_cel_shape seem to be correlated with y lets take a closer look with some graphs\n",
    "sns.countplot(x = 'u_cel_size', data = t_data, hue = 'y')"
   ]
  },
  {
   "cell_type": "code",
   "execution_count": 13,
   "metadata": {},
   "outputs": [
    {
     "data": {
      "text/plain": [
       "<matplotlib.axes._subplots.AxesSubplot at 0x7fa928763400>"
      ]
     },
     "execution_count": 13,
     "metadata": {},
     "output_type": "execute_result"
    },
    {
     "data": {
      "image/png": "[encoded data removed]",
      "text/plain": [
       "<matplotlib.figure.Figure at 0x7fa92bd201d0>"
      ]
     },
     "metadata": {},
     "output_type": "display_data"
    }
   ],
   "source": [
    "sns.swarmplot(x='u_cel_size', y = 'u_cel_shape', data = t_data, hue = 'y')"
   ]
  },
  {
   "cell_type": "code",
   "execution_count": 14,
   "metadata": {},
   "outputs": [
    {
     "data": {
      "text/html": [
       "<div>\n",
       "<style scoped>\n",
       "    .dataframe tbody tr th:only-of-type {\n",
       "        vertical-align: middle;\n",
       "    }\n",
       "\n",
       "    .dataframe tbody tr th {\n",
       "        vertical-align: top;\n",
       "    }\n",
       "\n",
       "    .dataframe thead th {\n",
       "        text-align: right;\n",
       "    }\n",
       "</style>\n",
       "<table border=\"1\" class=\"dataframe\">\n",
       "  <thead>\n",
       "    <tr style=\"text-align: right;\">\n",
       "      <th></th>\n",
       "      <th>bare_nuclei</th>\n",
       "      <th>bland_chromatin</th>\n",
       "      <th>class</th>\n",
       "      <th>clump</th>\n",
       "      <th>id</th>\n",
       "      <th>m_adhesion</th>\n",
       "      <th>mitosis</th>\n",
       "      <th>n_nucleoli</th>\n",
       "      <th>single_cell_size</th>\n",
       "      <th>u_cel_shape</th>\n",
       "      <th>u_cel_size</th>\n",
       "    </tr>\n",
       "  </thead>\n",
       "  <tbody>\n",
       "    <tr>\n",
       "      <th>0</th>\n",
       "      <td>1</td>\n",
       "      <td>3</td>\n",
       "      <td>2</td>\n",
       "      <td>5</td>\n",
       "      <td>1000025</td>\n",
       "      <td>1</td>\n",
       "      <td>1</td>\n",
       "      <td>1</td>\n",
       "      <td>2</td>\n",
       "      <td>1</td>\n",
       "      <td>1</td>\n",
       "    </tr>\n",
       "    <tr>\n",
       "      <th>1</th>\n",
       "      <td>10</td>\n",
       "      <td>3</td>\n",
       "      <td>2</td>\n",
       "      <td>5</td>\n",
       "      <td>1002945</td>\n",
       "      <td>5</td>\n",
       "      <td>1</td>\n",
       "      <td>2</td>\n",
       "      <td>7</td>\n",
       "      <td>4</td>\n",
       "      <td>4</td>\n",
       "    </tr>\n",
       "    <tr>\n",
       "      <th>2</th>\n",
       "      <td>2</td>\n",
       "      <td>3</td>\n",
       "      <td>2</td>\n",
       "      <td>3</td>\n",
       "      <td>1015425</td>\n",
       "      <td>1</td>\n",
       "      <td>1</td>\n",
       "      <td>1</td>\n",
       "      <td>2</td>\n",
       "      <td>1</td>\n",
       "      <td>1</td>\n",
       "    </tr>\n",
       "    <tr>\n",
       "      <th>3</th>\n",
       "      <td>4</td>\n",
       "      <td>3</td>\n",
       "      <td>2</td>\n",
       "      <td>6</td>\n",
       "      <td>1016277</td>\n",
       "      <td>1</td>\n",
       "      <td>1</td>\n",
       "      <td>7</td>\n",
       "      <td>3</td>\n",
       "      <td>8</td>\n",
       "      <td>8</td>\n",
       "    </tr>\n",
       "    <tr>\n",
       "      <th>4</th>\n",
       "      <td>1</td>\n",
       "      <td>3</td>\n",
       "      <td>2</td>\n",
       "      <td>4</td>\n",
       "      <td>1017023</td>\n",
       "      <td>3</td>\n",
       "      <td>1</td>\n",
       "      <td>1</td>\n",
       "      <td>2</td>\n",
       "      <td>1</td>\n",
       "      <td>1</td>\n",
       "    </tr>\n",
       "  </tbody>\n",
       "</table>\n",
       "</div>"
      ],
      "text/plain": [
       "  bare_nuclei  bland_chromatin  class  clump       id  m_adhesion  mitosis  \\\n",
       "0           1                3      2      5  1000025           1        1   \n",
       "1          10                3      2      5  1002945           5        1   \n",
       "2           2                3      2      3  1015425           1        1   \n",
       "3           4                3      2      6  1016277           1        1   \n",
       "4           1                3      2      4  1017023           3        1   \n",
       "\n",
       "   n_nucleoli  single_cell_size  u_cel_shape  u_cel_size  \n",
       "0           1                 2            1           1  \n",
       "1           2                 7            4           4  \n",
       "2           1                 2            1           1  \n",
       "3           7                 3            8           8  \n",
       "4           1                 2            1           1  "
      ]
     },
     "execution_count": 14,
     "metadata": {},
     "output_type": "execute_result"
    }
   ],
   "source": [
    "test = t_data[t_data.columns.difference(['y'])]\n",
    "test.head()"
   ]
  },
  {
   "cell_type": "code",
   "execution_count": 15,
   "metadata": {},
   "outputs": [],
   "source": [
    "# there is really good decision boundry for logistic regression\n",
    "# but obviosly there will be a few false positives and negatives\n",
    "# lets create a baseline with logistic regression\n",
    "X = t_data[['u_cel_size', 'u_cel_shape']]\n",
    "y = t_data['y']\n",
    "\n",
    "X_train, X_test, y_train, y_test = train_test_split(X.values, y.values, test_size = 0.3, random_state = 1)"
   ]
  },
  {
   "cell_type": "code",
   "execution_count": 16,
   "metadata": {},
   "outputs": [
    {
     "data": {
      "text/plain": [
       "LogisticRegression(C=1.0, class_weight=None, dual=False, fit_intercept=True,\n",
       "          intercept_scaling=1, max_iter=100, multi_class='ovr', n_jobs=1,\n",
       "          penalty='l2', random_state=None, solver='liblinear', tol=0.0001,\n",
       "          verbose=0, warm_start=False)"
      ]
     },
     "execution_count": 16,
     "metadata": {},
     "output_type": "execute_result"
    }
   ],
   "source": [
    "log_reg = LogisticRegression()\n",
    "log_reg.fit(X_train,y_train)"
   ]
  },
  {
   "cell_type": "code",
   "execution_count": 17,
   "metadata": {},
   "outputs": [
    {
     "data": {
      "text/plain": [
       "0.9615384615384616"
      ]
     },
     "execution_count": 17,
     "metadata": {},
     "output_type": "execute_result"
    }
   ],
   "source": [
    "y_pred = log_reg.predict(X_test)\n",
    "model_score = log_reg.score(X_test,y_test)\n",
    "model_score"
   ]
  },
  {
   "cell_type": "code",
   "execution_count": 18,
   "metadata": {},
   "outputs": [
    {
     "data": {
      "text/plain": [
       "array([[136,   4],\n",
       "       [  4,  64]])"
      ]
     },
     "execution_count": 18,
     "metadata": {},
     "output_type": "execute_result"
    },
    {
     "data": {
      "image/png": "[encoded data removed]",
      "text/plain": [
       "<matplotlib.figure.Figure at 0x7fa9286c5f28>"
      ]
     },
     "metadata": {},
     "output_type": "display_data"
    }
   ],
   "source": [
    "con_mat = confusion_matrix(y_test,y_pred)\n",
    "sns.heatmap(con_mat)\n",
    "con_mat"
   ]
  },
  {
   "cell_type": "code",
   "execution_count": 19,
   "metadata": {},
   "outputs": [
    {
     "name": "stdout",
     "output_type": "stream",
     "text": [
      "             precision    recall  f1-score   support\n",
      "\n",
      "     benign       0.97      0.97      0.97       140\n",
      "  malignant       0.94      0.94      0.94        68\n",
      "\n",
      "avg / total       0.96      0.96      0.96       208\n",
      "\n"
     ]
    }
   ],
   "source": [
    "model_report = classification_report(y_test,y_pred,target_names = ['benign','malignant'])\n",
    "print(model_report)"
   ]
  },
  {
   "cell_type": "code",
   "execution_count": 20,
   "metadata": {},
   "outputs": [
    {
     "data": {
      "text/html": [
       "<div>\n",
       "<style scoped>\n",
       "    .dataframe tbody tr th:only-of-type {\n",
       "        vertical-align: middle;\n",
       "    }\n",
       "\n",
       "    .dataframe tbody tr th {\n",
       "        vertical-align: top;\n",
       "    }\n",
       "\n",
       "    .dataframe thead th {\n",
       "        text-align: right;\n",
       "    }\n",
       "</style>\n",
       "<table border=\"1\" class=\"dataframe\">\n",
       "  <thead>\n",
       "    <tr style=\"text-align: right;\">\n",
       "      <th></th>\n",
       "      <th>fpr</th>\n",
       "      <th>thresh</th>\n",
       "      <th>tpr</th>\n",
       "    </tr>\n",
       "  </thead>\n",
       "  <tbody>\n",
       "    <tr>\n",
       "      <th>0</th>\n",
       "      <td>0.0</td>\n",
       "      <td>9.372794</td>\n",
       "      <td>0.235294</td>\n",
       "    </tr>\n",
       "    <tr>\n",
       "      <th>1</th>\n",
       "      <td>0.0</td>\n",
       "      <td>8.604717</td>\n",
       "      <td>0.250000</td>\n",
       "    </tr>\n",
       "    <tr>\n",
       "      <th>2</th>\n",
       "      <td>0.0</td>\n",
       "      <td>8.097162</td>\n",
       "      <td>0.279412</td>\n",
       "    </tr>\n",
       "    <tr>\n",
       "      <th>3</th>\n",
       "      <td>0.0</td>\n",
       "      <td>7.329085</td>\n",
       "      <td>0.308824</td>\n",
       "    </tr>\n",
       "    <tr>\n",
       "      <th>4</th>\n",
       "      <td>0.0</td>\n",
       "      <td>6.821530</td>\n",
       "      <td>0.338235</td>\n",
       "    </tr>\n",
       "  </tbody>\n",
       "</table>\n",
       "</div>"
      ],
      "text/plain": [
       "   fpr    thresh       tpr\n",
       "0  0.0  9.372794  0.235294\n",
       "1  0.0  8.604717  0.250000\n",
       "2  0.0  8.097162  0.279412\n",
       "3  0.0  7.329085  0.308824\n",
       "4  0.0  6.821530  0.338235"
      ]
     },
     "execution_count": 20,
     "metadata": {},
     "output_type": "execute_result"
    }
   ],
   "source": [
    "model_fpr, model_tpr, model_thresh = roc_curve(y_test, log_reg.decision_function(X_test), pos_label = 1)\n",
    "model_roc = {'fpr':model_fpr, 'tpr':model_tpr, 'thresh':model_thresh}\n",
    "model_roc = pd.DataFrame(model_roc)\n",
    "model_roc.head()"
   ]
  },
  {
   "cell_type": "code",
   "execution_count": 21,
   "metadata": {},
   "outputs": [
    {
     "data": {
      "text/plain": [
       "<matplotlib.axes._subplots.AxesSubplot at 0x7fa9287577b8>"
      ]
     },
     "execution_count": 21,
     "metadata": {},
     "output_type": "execute_result"
    },
    {
     "data": {
      "image/png": "[encoded data removed]",
      "text/plain": [
       "<matplotlib.figure.Figure at 0x7fa928604080>"
      ]
     },
     "metadata": {},
     "output_type": "display_data"
    }
   ],
   "source": [
    "sns.pointplot(x = 'fpr', y = 'tpr', data = model_roc)"
   ]
  },
  {
   "cell_type": "code",
   "execution_count": 22,
   "metadata": {},
   "outputs": [
    {
     "name": "stdout",
     "output_type": "stream",
     "text": [
      "0.9838235294117648 0.9838235294117648\n"
     ]
    }
   ],
   "source": [
    "model_auc = roc_auc_score(y_test, log_reg.decision_function(X_test))\n",
    "model_auc1 = auc(model_roc['fpr'], model_roc['tpr'])\n",
    "print(model_auc, model_auc1)"
   ]
  },
  {
   "cell_type": "markdown",
   "metadata": {},
   "source": [
    "## Results and Thoughts\n",
    "\n",
    "The first run was really simple and logistic regression performed well.\n",
    "\n",
    "We should dig deeper to see what caused type 1 / type 2 errors"
   ]
  },
  {
   "cell_type": "markdown",
   "metadata": {},
   "source": [
    "## Second Run"
   ]
  },
  {
   "cell_type": "code",
   "execution_count": 23,
   "metadata": {},
   "outputs": [
    {
     "data": {
      "text/html": [
       "<div>\n",
       "<style scoped>\n",
       "    .dataframe tbody tr th:only-of-type {\n",
       "        vertical-align: middle;\n",
       "    }\n",
       "\n",
       "    .dataframe tbody tr th {\n",
       "        vertical-align: top;\n",
       "    }\n",
       "\n",
       "    .dataframe thead th {\n",
       "        text-align: right;\n",
       "    }\n",
       "</style>\n",
       "<table border=\"1\" class=\"dataframe\">\n",
       "  <thead>\n",
       "    <tr style=\"text-align: right;\">\n",
       "      <th></th>\n",
       "      <th>y</th>\n",
       "      <th>y_pred</th>\n",
       "      <th>failed</th>\n",
       "    </tr>\n",
       "  </thead>\n",
       "  <tbody>\n",
       "    <tr>\n",
       "      <th>0</th>\n",
       "      <td>0</td>\n",
       "      <td>0</td>\n",
       "      <td>False</td>\n",
       "    </tr>\n",
       "    <tr>\n",
       "      <th>1</th>\n",
       "      <td>0</td>\n",
       "      <td>0</td>\n",
       "      <td>False</td>\n",
       "    </tr>\n",
       "    <tr>\n",
       "      <th>2</th>\n",
       "      <td>0</td>\n",
       "      <td>0</td>\n",
       "      <td>False</td>\n",
       "    </tr>\n",
       "    <tr>\n",
       "      <th>3</th>\n",
       "      <td>1</td>\n",
       "      <td>1</td>\n",
       "      <td>False</td>\n",
       "    </tr>\n",
       "    <tr>\n",
       "      <th>4</th>\n",
       "      <td>1</td>\n",
       "      <td>0</td>\n",
       "      <td>True</td>\n",
       "    </tr>\n",
       "  </tbody>\n",
       "</table>\n",
       "</div>"
      ],
      "text/plain": [
       "   y  y_pred  failed\n",
       "0  0       0   False\n",
       "1  0       0   False\n",
       "2  0       0   False\n",
       "3  1       1   False\n",
       "4  1       0    True"
      ]
     },
     "execution_count": 23,
     "metadata": {},
     "output_type": "execute_result"
    }
   ],
   "source": [
    "results1 = pd.DataFrame(y_test, columns = ['y'])\n",
    "results1['y_pred'] = y_pred\n",
    "results1['failed'] = results1['y'] != results1['y_pred']\n",
    "results1.head()\n"
   ]
  },
  {
   "cell_type": "code",
   "execution_count": 24,
   "metadata": {},
   "outputs": [
    {
     "data": {
      "text/plain": [
       "<matplotlib.axes._subplots.AxesSubplot at 0x7fa9285ba9e8>"
      ]
     },
     "execution_count": 24,
     "metadata": {},
     "output_type": "execute_result"
    },
    {
     "data": {
      "image/png": "[encoded data removed]",
      "text/plain": [
       "<matplotlib.figure.Figure at 0x7fa9285f89e8>"
      ]
     },
     "metadata": {},
     "output_type": "display_data"
    }
   ],
   "source": [
    "sns.swarmplot(x='u_cel_size', y = 'u_cel_shape', data = t_data, hue = 'y')"
   ]
  },
  {
   "cell_type": "code",
   "execution_count": 25,
   "metadata": {},
   "outputs": [
    {
     "name": "stderr",
     "output_type": "stream",
     "text": [
      "/home/nathaniel/anaconda3/lib/python3.6/site-packages/ipykernel_launcher.py:3: SettingWithCopyWarning: \n",
      "A value is trying to be set on a copy of a slice from a DataFrame.\n",
      "Try using .loc[row_indexer,col_indexer] = value instead\n",
      "\n",
      "See the caveats in the documentation: http://pandas.pydata.org/pandas-docs/stable/indexing.html#indexing-view-versus-copy\n",
      "  This is separate from the ipykernel package so we can avoid doing imports until\n",
      "/home/nathaniel/anaconda3/lib/python3.6/site-packages/ipykernel_launcher.py:4: SettingWithCopyWarning: \n",
      "A value is trying to be set on a copy of a slice from a DataFrame.\n",
      "Try using .loc[row_indexer,col_indexer] = value instead\n",
      "\n",
      "See the caveats in the documentation: http://pandas.pydata.org/pandas-docs/stable/indexing.html#indexing-view-versus-copy\n",
      "  after removing the cwd from sys.path.\n",
      "/home/nathaniel/anaconda3/lib/python3.6/site-packages/ipykernel_launcher.py:6: SettingWithCopyWarning: \n",
      "A value is trying to be set on a copy of a slice from a DataFrame.\n",
      "Try using .loc[row_indexer,col_indexer] = value instead\n",
      "\n",
      "See the caveats in the documentation: http://pandas.pydata.org/pandas-docs/stable/indexing.html#indexing-view-versus-copy\n",
      "  \n"
     ]
    },
    {
     "data": {
      "text/html": [
       "<div>\n",
       "<style scoped>\n",
       "    .dataframe tbody tr th:only-of-type {\n",
       "        vertical-align: middle;\n",
       "    }\n",
       "\n",
       "    .dataframe tbody tr th {\n",
       "        vertical-align: top;\n",
       "    }\n",
       "\n",
       "    .dataframe thead th {\n",
       "        text-align: right;\n",
       "    }\n",
       "</style>\n",
       "<table border=\"1\" class=\"dataframe\">\n",
       "  <thead>\n",
       "    <tr style=\"text-align: right;\">\n",
       "      <th></th>\n",
       "      <th>id</th>\n",
       "      <th>clump</th>\n",
       "      <th>u_cel_size</th>\n",
       "      <th>u_cel_shape</th>\n",
       "      <th>m_adhesion</th>\n",
       "      <th>single_cell_size</th>\n",
       "      <th>bare_nuclei</th>\n",
       "      <th>bland_chromatin</th>\n",
       "      <th>n_nucleoli</th>\n",
       "      <th>mitosis</th>\n",
       "      <th>class</th>\n",
       "      <th>y</th>\n",
       "      <th>outliers1</th>\n",
       "      <th>outliers2</th>\n",
       "      <th>outliers</th>\n",
       "    </tr>\n",
       "  </thead>\n",
       "  <tbody>\n",
       "    <tr>\n",
       "      <th>1</th>\n",
       "      <td>1002945</td>\n",
       "      <td>5</td>\n",
       "      <td>4</td>\n",
       "      <td>4</td>\n",
       "      <td>5</td>\n",
       "      <td>7</td>\n",
       "      <td>10</td>\n",
       "      <td>3</td>\n",
       "      <td>2</td>\n",
       "      <td>1</td>\n",
       "      <td>2</td>\n",
       "      <td>0</td>\n",
       "      <td>1</td>\n",
       "      <td>0</td>\n",
       "      <td>1</td>\n",
       "    </tr>\n",
       "    <tr>\n",
       "      <th>3</th>\n",
       "      <td>1016277</td>\n",
       "      <td>6</td>\n",
       "      <td>8</td>\n",
       "      <td>8</td>\n",
       "      <td>1</td>\n",
       "      <td>3</td>\n",
       "      <td>4</td>\n",
       "      <td>3</td>\n",
       "      <td>7</td>\n",
       "      <td>1</td>\n",
       "      <td>2</td>\n",
       "      <td>0</td>\n",
       "      <td>1</td>\n",
       "      <td>0</td>\n",
       "      <td>1</td>\n",
       "    </tr>\n",
       "    <tr>\n",
       "      <th>12</th>\n",
       "      <td>1041801</td>\n",
       "      <td>5</td>\n",
       "      <td>3</td>\n",
       "      <td>3</td>\n",
       "      <td>3</td>\n",
       "      <td>2</td>\n",
       "      <td>3</td>\n",
       "      <td>4</td>\n",
       "      <td>4</td>\n",
       "      <td>1</td>\n",
       "      <td>4</td>\n",
       "      <td>1</td>\n",
       "      <td>0</td>\n",
       "      <td>1</td>\n",
       "      <td>1</td>\n",
       "    </tr>\n",
       "    <tr>\n",
       "      <th>20</th>\n",
       "      <td>1054590</td>\n",
       "      <td>7</td>\n",
       "      <td>3</td>\n",
       "      <td>2</td>\n",
       "      <td>10</td>\n",
       "      <td>5</td>\n",
       "      <td>10</td>\n",
       "      <td>5</td>\n",
       "      <td>4</td>\n",
       "      <td>4</td>\n",
       "      <td>4</td>\n",
       "      <td>1</td>\n",
       "      <td>0</td>\n",
       "      <td>1</td>\n",
       "      <td>1</td>\n",
       "    </tr>\n",
       "    <tr>\n",
       "      <th>25</th>\n",
       "      <td>1065726</td>\n",
       "      <td>5</td>\n",
       "      <td>2</td>\n",
       "      <td>3</td>\n",
       "      <td>4</td>\n",
       "      <td>2</td>\n",
       "      <td>7</td>\n",
       "      <td>3</td>\n",
       "      <td>6</td>\n",
       "      <td>1</td>\n",
       "      <td>4</td>\n",
       "      <td>1</td>\n",
       "      <td>0</td>\n",
       "      <td>1</td>\n",
       "      <td>1</td>\n",
       "    </tr>\n",
       "  </tbody>\n",
       "</table>\n",
       "</div>"
      ],
      "text/plain": [
       "         id  clump  u_cel_size  u_cel_shape  m_adhesion  single_cell_size  \\\n",
       "1   1002945      5           4            4           5                 7   \n",
       "3   1016277      6           8            8           1                 3   \n",
       "12  1041801      5           3            3           3                 2   \n",
       "20  1054590      7           3            2          10                 5   \n",
       "25  1065726      5           2            3           4                 2   \n",
       "\n",
       "   bare_nuclei  bland_chromatin  n_nucleoli  mitosis  class  y  outliers1  \\\n",
       "1           10                3           2        1      2  0          1   \n",
       "3            4                3           7        1      2  0          1   \n",
       "12           3                4           4        1      4  1          0   \n",
       "20          10                5           4        4      4  1          0   \n",
       "25           7                3           6        1      4  1          0   \n",
       "\n",
       "    outliers2  outliers  \n",
       "1           0         1  \n",
       "3           0         1  \n",
       "12          1         1  \n",
       "20          1         1  \n",
       "25          1         1  "
      ]
     },
     "execution_count": 25,
     "metadata": {},
     "output_type": "execute_result"
    },
    {
     "data": {
      "image/png": "[encoded data removed]",
      "text/plain": [
       "<matplotlib.figure.Figure at 0x7fa928586550>"
      ]
     },
     "metadata": {},
     "output_type": "display_data"
    }
   ],
   "source": [
    "outliers1 = (t_data['u_cel_size'] >= 4) & (t_data['u_cel_shape'] >= 4) & (t_data['y'] == 0)\n",
    "outliers2 = (t_data['u_cel_size'] <= 4) & (t_data['u_cel_shape'] <= 4) & (t_data['y'] == 1)\n",
    "t_data['outliers1'] = outliers1.astype(int)\n",
    "t_data['outliers2'] = outliers2.astype(int)\n",
    "\n",
    "t_data['outliers'] = t_data['outliers1'] | t_data['outliers2']\n",
    "\n",
    "\n",
    "outliers1 = t_data[t_data['outliers'] == 1]\n",
    "\n",
    "outliers_corr = t_data.corr()\n",
    "\n",
    "sns.heatmap(outliers_corr, annot = True)\n",
    "t_data.head()\n",
    "\n",
    "outliers_df = t_data[t_data['outliers'] == 1]\n",
    "outliers_df.head()"
   ]
  },
  {
   "cell_type": "code",
   "execution_count": 26,
   "metadata": {},
   "outputs": [
    {
     "data": {
      "text/plain": [
       "<matplotlib.axes._subplots.AxesSubplot at 0x7fa928537b38>"
      ]
     },
     "execution_count": 26,
     "metadata": {},
     "output_type": "execute_result"
    },
    {
     "data": {
      "image/png": "[encoded data removed]",
      "text/plain": [
       "<matplotlib.figure.Figure at 0x7fa9287579b0>"
      ]
     },
     "metadata": {},
     "output_type": "display_data"
    }
   ],
   "source": [
    "sns.swarmplot(x = 'clump', y = 'mitosis', hue = 'outliers1', data = outliers_df)"
   ]
  },
  {
   "cell_type": "code",
   "execution_count": 27,
   "metadata": {},
   "outputs": [
    {
     "data": {
      "text/plain": [
       "<matplotlib.axes._subplots.AxesSubplot at 0x7fa92835f438>"
      ]
     },
     "execution_count": 27,
     "metadata": {},
     "output_type": "execute_result"
    },
    {
     "data": {
      "image/png": "[encoded data removed]",
      "text/plain": [
       "<matplotlib.figure.Figure at 0x7fa9284dff60>"
      ]
     },
     "metadata": {},
     "output_type": "display_data"
    }
   ],
   "source": [
    "sns.countplot(x = 'mitosis', data = outliers_df, hue = 'outliers1')"
   ]
  },
  {
   "cell_type": "code",
   "execution_count": 28,
   "metadata": {},
   "outputs": [
    {
     "name": "stderr",
     "output_type": "stream",
     "text": [
      "/home/nathaniel/anaconda3/lib/python3.6/site-packages/ipykernel_launcher.py:3: SettingWithCopyWarning: \n",
      "A value is trying to be set on a copy of a slice from a DataFrame.\n",
      "Try using .loc[row_indexer,col_indexer] = value instead\n",
      "\n",
      "See the caveats in the documentation: http://pandas.pydata.org/pandas-docs/stable/indexing.html#indexing-view-versus-copy\n",
      "  This is separate from the ipykernel package so we can avoid doing imports until\n"
     ]
    },
    {
     "data": {
      "text/html": [
       "<div>\n",
       "<style scoped>\n",
       "    .dataframe tbody tr th:only-of-type {\n",
       "        vertical-align: middle;\n",
       "    }\n",
       "\n",
       "    .dataframe tbody tr th {\n",
       "        vertical-align: top;\n",
       "    }\n",
       "\n",
       "    .dataframe thead th {\n",
       "        text-align: right;\n",
       "    }\n",
       "</style>\n",
       "<table border=\"1\" class=\"dataframe\">\n",
       "  <thead>\n",
       "    <tr style=\"text-align: right;\">\n",
       "      <th></th>\n",
       "      <th>id</th>\n",
       "      <th>clump</th>\n",
       "      <th>u_cel_size</th>\n",
       "      <th>u_cel_shape</th>\n",
       "      <th>m_adhesion</th>\n",
       "      <th>single_cell_size</th>\n",
       "      <th>bare_nuclei</th>\n",
       "      <th>bland_chromatin</th>\n",
       "      <th>n_nucleoli</th>\n",
       "      <th>mitosis</th>\n",
       "      <th>class</th>\n",
       "      <th>y</th>\n",
       "      <th>outliers1</th>\n",
       "      <th>outliers2</th>\n",
       "      <th>outliers</th>\n",
       "      <th>mitosis3</th>\n",
       "    </tr>\n",
       "  </thead>\n",
       "  <tbody>\n",
       "    <tr>\n",
       "      <th>0</th>\n",
       "      <td>1000025</td>\n",
       "      <td>5</td>\n",
       "      <td>1</td>\n",
       "      <td>1</td>\n",
       "      <td>1</td>\n",
       "      <td>2</td>\n",
       "      <td>1</td>\n",
       "      <td>3</td>\n",
       "      <td>1</td>\n",
       "      <td>1</td>\n",
       "      <td>2</td>\n",
       "      <td>0</td>\n",
       "      <td>0</td>\n",
       "      <td>0</td>\n",
       "      <td>0</td>\n",
       "      <td>0</td>\n",
       "    </tr>\n",
       "    <tr>\n",
       "      <th>1</th>\n",
       "      <td>1002945</td>\n",
       "      <td>5</td>\n",
       "      <td>4</td>\n",
       "      <td>4</td>\n",
       "      <td>5</td>\n",
       "      <td>7</td>\n",
       "      <td>10</td>\n",
       "      <td>3</td>\n",
       "      <td>2</td>\n",
       "      <td>1</td>\n",
       "      <td>2</td>\n",
       "      <td>0</td>\n",
       "      <td>1</td>\n",
       "      <td>0</td>\n",
       "      <td>1</td>\n",
       "      <td>0</td>\n",
       "    </tr>\n",
       "    <tr>\n",
       "      <th>2</th>\n",
       "      <td>1015425</td>\n",
       "      <td>3</td>\n",
       "      <td>1</td>\n",
       "      <td>1</td>\n",
       "      <td>1</td>\n",
       "      <td>2</td>\n",
       "      <td>2</td>\n",
       "      <td>3</td>\n",
       "      <td>1</td>\n",
       "      <td>1</td>\n",
       "      <td>2</td>\n",
       "      <td>0</td>\n",
       "      <td>0</td>\n",
       "      <td>0</td>\n",
       "      <td>0</td>\n",
       "      <td>0</td>\n",
       "    </tr>\n",
       "    <tr>\n",
       "      <th>3</th>\n",
       "      <td>1016277</td>\n",
       "      <td>6</td>\n",
       "      <td>8</td>\n",
       "      <td>8</td>\n",
       "      <td>1</td>\n",
       "      <td>3</td>\n",
       "      <td>4</td>\n",
       "      <td>3</td>\n",
       "      <td>7</td>\n",
       "      <td>1</td>\n",
       "      <td>2</td>\n",
       "      <td>0</td>\n",
       "      <td>1</td>\n",
       "      <td>0</td>\n",
       "      <td>1</td>\n",
       "      <td>0</td>\n",
       "    </tr>\n",
       "    <tr>\n",
       "      <th>4</th>\n",
       "      <td>1017023</td>\n",
       "      <td>4</td>\n",
       "      <td>1</td>\n",
       "      <td>1</td>\n",
       "      <td>3</td>\n",
       "      <td>2</td>\n",
       "      <td>1</td>\n",
       "      <td>3</td>\n",
       "      <td>1</td>\n",
       "      <td>1</td>\n",
       "      <td>2</td>\n",
       "      <td>0</td>\n",
       "      <td>0</td>\n",
       "      <td>0</td>\n",
       "      <td>0</td>\n",
       "      <td>0</td>\n",
       "    </tr>\n",
       "  </tbody>\n",
       "</table>\n",
       "</div>"
      ],
      "text/plain": [
       "        id  clump  u_cel_size  u_cel_shape  m_adhesion  single_cell_size  \\\n",
       "0  1000025      5           1            1           1                 2   \n",
       "1  1002945      5           4            4           5                 7   \n",
       "2  1015425      3           1            1           1                 2   \n",
       "3  1016277      6           8            8           1                 3   \n",
       "4  1017023      4           1            1           3                 2   \n",
       "\n",
       "  bare_nuclei  bland_chromatin  n_nucleoli  mitosis  class  y  outliers1  \\\n",
       "0           1                3           1        1      2  0          0   \n",
       "1          10                3           2        1      2  0          1   \n",
       "2           2                3           1        1      2  0          0   \n",
       "3           4                3           7        1      2  0          1   \n",
       "4           1                3           1        1      2  0          0   \n",
       "\n",
       "   outliers2  outliers  mitosis3  \n",
       "0          0         0         0  \n",
       "1          0         1         0  \n",
       "2          0         0         0  \n",
       "3          0         1         0  \n",
       "4          0         0         0  "
      ]
     },
     "execution_count": 28,
     "metadata": {},
     "output_type": "execute_result"
    }
   ],
   "source": [
    "# mitosis appears to be a good sperator for the outliers. That is we only find type 2 outliers with mitosis > 3\n",
    "# so lets build a feature with mitosis > 3 plus booleans for outlier2\n",
    "t_data['mitosis3'] = (t_data['mitosis'] >= 3).astype(int)\n",
    "t_data.head()"
   ]
  },
  {
   "cell_type": "markdown",
   "metadata": {},
   "source": [
    "test new model with outliers1 outliers2 and mitosis3"
   ]
  },
  {
   "cell_type": "code",
   "execution_count": 29,
   "metadata": {},
   "outputs": [
    {
     "name": "stdout",
     "output_type": "stream",
     "text": [
      "0.9826680672268907 0.9826680672268907\n"
     ]
    },
    {
     "data": {
      "image/png": "[encoded data removed]",
      "text/plain": [
       "<matplotlib.figure.Figure at 0x7fa9284eabe0>"
      ]
     },
     "metadata": {},
     "output_type": "display_data"
    }
   ],
   "source": [
    "X = t_data[['u_cel_size', 'u_cel_shape', 'outliers', 'mitosis3']]\n",
    "y = t_data['y']\n",
    "\n",
    "X_train, X_test, y_train, y_test = train_test_split(X.values, y.values, test_size = 0.3, random_state = 1)\n",
    "\n",
    "log_reg = LogisticRegression()\n",
    "log_reg.fit(X_train,y_train)\n",
    "\n",
    "y_pred = log_reg.predict(X_test)\n",
    "model_score = log_reg.score(X_test,y_test)\n",
    "\n",
    "model_fpr, model_tpr, model_thresh = roc_curve(y_test, log_reg.decision_function(X_test), pos_label = 1)\n",
    "model_roc = {'fpr':model_fpr, 'tpr':model_tpr, 'thresh':model_thresh}\n",
    "model_roc = pd.DataFrame(model_roc)\n",
    "model_roc.head()\n",
    "\n",
    "sns.pointplot(x = 'fpr', y = 'tpr', data = model_roc)\n",
    "\n",
    "model_auc = roc_auc_score(y_test, log_reg.decision_function(X_test))\n",
    "model_auc1 = auc(model_roc['fpr'], model_roc['tpr'])\n",
    "print(model_auc, model_auc1)"
   ]
  },
  {
   "cell_type": "markdown",
   "metadata": {},
   "source": [
    "## Results and Thoughts 2\n",
    "\n",
    "My AUC score got worse from 98.3 --> 98.2.\n",
    "\n",
    "These features didn't seem to do much\n",
    "\n",
    "mitosis is not strongly correlated to y ..."
   ]
  },
  {
   "cell_type": "markdown",
   "metadata": {},
   "source": [
    "## Round 3\n",
    "\n",
    "lets add in more columns to see how things go"
   ]
  },
  {
   "cell_type": "code",
   "execution_count": 30,
   "metadata": {},
   "outputs": [
    {
     "name": "stdout",
     "output_type": "stream",
     "text": [
      "0.9865546218487394 0.9865546218487394 0.9711538461538461\n"
     ]
    },
    {
     "data": {
      "image/png": "[encoded data removed]",
      "text/plain": [
       "<matplotlib.figure.Figure at 0x7fa9282dfc88>"
      ]
     },
     "metadata": {},
     "output_type": "display_data"
    }
   ],
   "source": [
    "X = t_data[['u_cel_size', 'u_cel_shape', 'outliers', 'mitosis3','clump', 'bland_chromatin', 'n_nucleoli']]\n",
    "y = t_data['y']\n",
    "\n",
    "X_train, X_test, y_train, y_test = train_test_split(X.values, y.values, test_size = 0.3, random_state = 1)\n",
    "\n",
    "log_reg = LogisticRegression()\n",
    "log_reg.fit(X_train,y_train)\n",
    "\n",
    "y_pred = log_reg.predict(X_test)\n",
    "model_score = log_reg.score(X_test,y_test)\n",
    "\n",
    "model_fpr, model_tpr, model_thresh = roc_curve(y_test, log_reg.decision_function(X_test), pos_label = 1)\n",
    "model_roc = {'fpr':model_fpr, 'tpr':model_tpr, 'thresh':model_thresh}\n",
    "model_roc = pd.DataFrame(model_roc)\n",
    "model_roc.head()\n",
    "\n",
    "sns.pointplot(x = 'fpr', y = 'tpr', data = model_roc)\n",
    "\n",
    "model_auc = roc_auc_score(y_test, log_reg.decision_function(X_test))\n",
    "model_auc1 = auc(model_roc['fpr'], model_roc['tpr'])\n",
    "print(model_auc, model_auc1, model_score)"
   ]
  },
  {
   "cell_type": "code",
   "execution_count": 33,
   "metadata": {},
   "outputs": [
    {
     "data": {
      "text/plain": [
       "<matplotlib.axes._subplots.AxesSubplot at 0x7fa923791e10>"
      ]
     },
     "execution_count": 33,
     "metadata": {},
     "output_type": "execute_result"
    },
    {
     "data": {
      "image/png": "[encoded data removed]",
      "text/plain": [
       "<matplotlib.figure.Figure at 0x7fa928244390>"
      ]
     },
     "metadata": {},
     "output_type": "display_data"
    }
   ],
   "source": [
    "features = ['u_cel_size', 'u_cel_shape', 'outliers', 'mitosis3','clump', 'bland_chromatin', 'n_nucleoli']\n",
    "score, conf_df, auc = run_log_reg(t_data, features)\n",
    "\n",
    "sns.pointplot(x = 'fpr', y = 'tpr', data = conf_df)"
   ]
  },
  {
   "cell_type": "code",
   "execution_count": 32,
   "metadata": {},
   "outputs": [
    {
     "ename": "TypeError",
     "evalue": "'numpy.float64' object is not callable",
     "output_type": "error",
     "traceback": [
      "\u001b[0;31m---------------------------------------------------------------------------\u001b[0m",
      "\u001b[0;31mTypeError\u001b[0m                                 Traceback (most recent call last)",
      "\u001b[0;32m<ipython-input-32-d472040a46ed>\u001b[0m in \u001b[0;36m<module>\u001b[0;34m()\u001b[0m\n\u001b[1;32m     18\u001b[0m \u001b[0;34m\u001b[0m\u001b[0m\n\u001b[1;32m     19\u001b[0m \u001b[0mmodel_auc\u001b[0m \u001b[0;34m=\u001b[0m \u001b[0mroc_auc_score\u001b[0m\u001b[0;34m(\u001b[0m\u001b[0my_test\u001b[0m\u001b[0;34m,\u001b[0m \u001b[0mlog_reg\u001b[0m\u001b[0;34m.\u001b[0m\u001b[0mdecision_function\u001b[0m\u001b[0;34m(\u001b[0m\u001b[0mX_test\u001b[0m\u001b[0;34m)\u001b[0m\u001b[0;34m)\u001b[0m\u001b[0;34m\u001b[0m\u001b[0m\n\u001b[0;32m---> 20\u001b[0;31m \u001b[0mmodel_auc1\u001b[0m \u001b[0;34m=\u001b[0m \u001b[0mauc\u001b[0m\u001b[0;34m(\u001b[0m\u001b[0mmodel_roc\u001b[0m\u001b[0;34m[\u001b[0m\u001b[0;34m'fpr'\u001b[0m\u001b[0;34m]\u001b[0m\u001b[0;34m,\u001b[0m \u001b[0mmodel_roc\u001b[0m\u001b[0;34m[\u001b[0m\u001b[0;34m'tpr'\u001b[0m\u001b[0;34m]\u001b[0m\u001b[0;34m)\u001b[0m\u001b[0;34m\u001b[0m\u001b[0m\n\u001b[0m\u001b[1;32m     21\u001b[0m \u001b[0mprint\u001b[0m\u001b[0;34m(\u001b[0m\u001b[0mmodel_auc\u001b[0m\u001b[0;34m,\u001b[0m \u001b[0mmodel_auc1\u001b[0m\u001b[0;34m,\u001b[0m \u001b[0mmodel_score\u001b[0m\u001b[0;34m)\u001b[0m\u001b[0;34m\u001b[0m\u001b[0m\n",
      "\u001b[0;31mTypeError\u001b[0m: 'numpy.float64' object is not callable"
     ]
    },
    {
     "data": {
      "image/png": "[encoded data removed]",
      "text/plain": [
       "<matplotlib.figure.Figure at 0x7fa9282a3ac8>"
      ]
     },
     "metadata": {},
     "output_type": "display_data"
    }
   ],
   "source": [
    "X = t_data[['u_cel_size', 'u_cel_shape', 'outliers', 'mitosis3','clump', 'bland_chromatin', 'n_nucleoli', 'm_adhesion','single_cell_size']]\n",
    "y = t_data['y']\n",
    "\n",
    "X_train, X_test, y_train, y_test = train_test_split(X.values, y.values, test_size = 0.3, random_state = 1)\n",
    "\n",
    "log_reg = LogisticRegression()\n",
    "log_reg.fit(X_train,y_train)\n",
    "\n",
    "y_pred = log_reg.predict(X_test)\n",
    "model_score = log_reg.score(X_test,y_test)\n",
    "\n",
    "model_fpr, model_tpr, model_thresh = roc_curve(y_test, log_reg.decision_function(X_test), pos_label = 1)\n",
    "model_roc = {'fpr':model_fpr, 'tpr':model_tpr, 'thresh':model_thresh}\n",
    "model_roc = pd.DataFrame(model_roc)\n",
    "model_roc.head()\n",
    "\n",
    "sns.pointplot(x = 'fpr', y = 'tpr', data = model_roc)\n",
    "\n",
    "model_auc = roc_auc_score(y_test, log_reg.decision_function(X_test))\n",
    "model_auc1 = auc(model_roc['fpr'], model_roc['tpr'])\n",
    "print(model_auc, model_auc1, model_score)"
   ]
  },
  {
   "cell_type": "code",
   "execution_count": null,
   "metadata": {},
   "outputs": [],
   "source": [
    "X = t_data[['u_cel_size', 'u_cel_shape','clump', 'bland_chromatin', 'n_nucleoli','m_adhesion','single_cell_size']]\n",
    "y = t_data['y']\n",
    "\n",
    "X_train, X_test, y_train, y_test = train_test_split(X.values, y.values, test_size = 0.3, random_state = 1)\n",
    "\n",
    "log_reg = LogisticRegression()\n",
    "log_reg.fit(X_train,y_train)\n",
    "\n",
    "y_pred = log_reg.predict(X_test)\n",
    "model_score = log_reg.score(X_test,y_test)\n",
    "\n",
    "model_fpr, model_tpr, model_thresh = roc_curve(y_test, log_reg.decision_function(X_test), pos_label = 1)\n",
    "model_roc = {'fpr':model_fpr, 'tpr':model_tpr, 'thresh':model_thresh}\n",
    "model_roc = pd.DataFrame(model_roc)\n",
    "model_roc.head()\n",
    "\n",
    "sns.pointplot(x = 'fpr', y = 'tpr', data = model_roc)\n",
    "\n",
    "model_auc = roc_auc_score(y_test, log_reg.decision_function(X_test))\n",
    "model_auc1 = auc(model_roc['fpr'], model_roc['tpr'])\n",
    "print(model_auc, model_auc1, model_score)"
   ]
  },
  {
   "cell_type": "code",
   "execution_count": null,
   "metadata": {},
   "outputs": [],
   "source": [
    "X = t_data[['u_cel_size', 'u_cel_shape','clump', 'bland_chromatin', 'n_nucleoli','m_adhesion','single_cell_size']]\n",
    "y = t_data['y']\n",
    "\n",
    "X_train, X_test, y_train, y_test = train_test_split(X.values, y.values, test_size = 0.3, random_state = 10)\n",
    "\n",
    "log_reg = LogisticRegression()\n",
    "log_reg.fit(X_train,y_train)\n",
    "\n",
    "y_pred = log_reg.predict(X_test)\n",
    "model_score = log_reg.score(X_test,y_test)\n",
    "\n",
    "model_fpr, model_tpr, model_thresh = roc_curve(y_test, log_reg.decision_function(X_test), pos_label = 1)\n",
    "model_roc = {'fpr':model_fpr, 'tpr':model_tpr, 'thresh':model_thresh}\n",
    "model_roc = pd.DataFrame(model_roc)\n",
    "model_roc.head()\n",
    "\n",
    "sns.pointplot(x = 'fpr', y = 'tpr', data = model_roc)\n",
    "\n",
    "model_auc = roc_auc_score(y_test, log_reg.decision_function(X_test))\n",
    "model_auc1 = auc(model_roc['fpr'], model_roc['tpr'])\n",
    "print(model_auc, model_auc1, model_score)"
   ]
  },
  {
   "cell_type": "code",
   "execution_count": null,
   "metadata": {},
   "outputs": [],
   "source": [
    "#plot feature importances\n",
    "log_reg.coef_[0]\n",
    "\n",
    "sns.barplot(x = ['u_cel_size', 'u_cel_shape','clump', 'bland_chromatin', 'n_nucleoli','m_adhesion','single_cell_size'], y = log_reg.coef_[0])\n",
    "plt.xticks(rotation=-45)"
   ]
  },
  {
   "cell_type": "markdown",
   "metadata": {},
   "source": [
    "## Results and Thoughts 3\n",
    "\n",
    "The data was already pretty clean there wasn't much reason to create more features as the features which existed were sufficient to get really good results\n",
    "\n",
    "we should look into cross validation now or maybe consider a different model"
   ]
  },
  {
   "cell_type": "markdown",
   "metadata": {},
   "source": [
    "## Round 4"
   ]
  },
  {
   "cell_type": "markdown",
   "metadata": {},
   "source": [
    "We will attempt to find a better model and if there's time cross validate to tune hyperparameters"
   ]
  },
  {
   "cell_type": "code",
   "execution_count": null,
   "metadata": {},
   "outputs": [],
   "source": [
    "#SVC with RBF kernal\n",
    "X = t_data[['u_cel_size', 'u_cel_shape','clump', 'bland_chromatin', 'n_nucleoli','m_adhesion','single_cell_size']]\n",
    "y = t_data['y']\n",
    "\n",
    "X_train, X_test, y_train, y_test = train_test_split(X.values, y.values, test_size = 0.3, random_state = 1)\n",
    "\n",
    "svc_clf = SVC()\n",
    "svc_clf.fit(X_train,y_train)\n",
    "\n",
    "y_pred = svc_clf.predict(X_test)\n",
    "model_score = svc_clf.score(X_test,y_test)\n",
    "\n",
    "model_fpr, model_tpr, model_thresh = roc_curve(y_test, svc_clf.decision_function(X_test), pos_label = 1)\n",
    "model_roc = {'fpr':model_fpr, 'tpr':model_tpr, 'thresh':model_thresh}\n",
    "model_roc = pd.DataFrame(model_roc)\n",
    "\n",
    "sns.pointplot(x = 'fpr', y = 'tpr', data = model_roc)\n",
    "\n",
    "model_auc = roc_auc_score(y_test, svc_clf.decision_function(X_test))\n",
    "model_auc1 = auc(model_roc['fpr'], model_roc['tpr'])\n",
    "print(model_auc, model_auc1, model_score)"
   ]
  },
  {
   "cell_type": "code",
   "execution_count": null,
   "metadata": {},
   "outputs": [],
   "source": [
    "#SVC with linear kernal\n",
    "X = t_data[['u_cel_size', 'u_cel_shape','clump', 'bland_chromatin', 'n_nucleoli','m_adhesion','single_cell_size']]\n",
    "y = t_data['y']\n",
    "\n",
    "X_train, X_test, y_train, y_test = train_test_split(X.values, y.values, test_size = 0.3, random_state = 1)\n",
    "\n",
    "svc_clf = SVC(kernel = 'linear')\n",
    "svc_clf.fit(X_train,y_train)\n",
    "\n",
    "y_pred = svc_clf.predict(X_test)\n",
    "model_score = svc_clf.score(X_test,y_test)\n",
    "\n",
    "model_fpr, model_tpr, model_thresh = roc_curve(y_test, svc_clf.decision_function(X_test), pos_label = 1)\n",
    "model_roc = {'fpr':model_fpr, 'tpr':model_tpr, 'thresh':model_thresh}\n",
    "model_roc = pd.DataFrame(model_roc)\n",
    "\n",
    "sns.pointplot(x = 'fpr', y = 'tpr', data = model_roc)\n",
    "\n",
    "model_auc = roc_auc_score(y_test, svc_clf.decision_function(X_test))\n",
    "model_auc1 = auc(model_roc['fpr'], model_roc['tpr'])\n",
    "print(model_auc, model_auc1, model_score)"
   ]
  },
  {
   "cell_type": "code",
   "execution_count": null,
   "metadata": {},
   "outputs": [],
   "source": [
    "#SVC with poly kernal degree 3\n",
    "X = t_data[['u_cel_size', 'u_cel_shape','clump', 'bland_chromatin', 'n_nucleoli','m_adhesion','single_cell_size']]\n",
    "y = t_data['y']\n",
    "\n",
    "X_train, X_test, y_train, y_test = train_test_split(X.values, y.values, test_size = 0.3, random_state = 1)\n",
    "\n",
    "svc_clf = SVC(kernel = 'poly')\n",
    "svc_clf.fit(X_train,y_train)\n",
    "\n",
    "y_pred = svc_clf.predict(X_test)\n",
    "model_score = svc_clf.score(X_test,y_test)\n",
    "\n",
    "model_fpr, model_tpr, model_thresh = roc_curve(y_test, svc_clf.decision_function(X_test), pos_label = 1)\n",
    "model_roc = {'fpr':model_fpr, 'tpr':model_tpr, 'thresh':model_thresh}\n",
    "model_roc = pd.DataFrame(model_roc)\n",
    "\n",
    "sns.pointplot(x = 'fpr', y = 'tpr', data = model_roc)\n",
    "\n",
    "model_auc = roc_auc_score(y_test, svc_clf.decision_function(X_test))\n",
    "model_auc1 = auc(model_roc['fpr'], model_roc['tpr'])\n",
    "print(model_auc, model_auc1, model_score)"
   ]
  },
  {
   "cell_type": "code",
   "execution_count": null,
   "metadata": {},
   "outputs": [],
   "source": []
  }
 ],
 "metadata": {
  "kernelspec": {
   "display_name": "Python 3",
   "language": "python",
   "name": "python3"
  },
  "language_info": {
   "codemirror_mode": {
    "name": "ipython",
    "version": 3
   },
   "file_extension": ".py",
   "mimetype": "text/x-python",
   "name": "python",
   "nbconvert_exporter": "python",
   "pygments_lexer": "ipython3",
   "version": "3.6.4"
  }
 },
 "nbformat": 4,
 "nbformat_minor": 2
}
