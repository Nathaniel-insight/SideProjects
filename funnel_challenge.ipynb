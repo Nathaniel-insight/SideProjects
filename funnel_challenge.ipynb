{
 "cells": [
  {
   "cell_type": "markdown",
   "metadata": {},
   "source": [
    "# Purpose\n",
    "\n",
    "CEO is not happy with new user sale volume\n",
    "\n",
    "# Goal\n",
    "\n",
    "It is your job to identify (using funnel analysis) problem and make suggestions to improve conversion rate"
   ]
  },
  {
   "cell_type": "markdown",
   "metadata": {},
   "source": [
    "# Solution"
   ]
  },
  {
   "cell_type": "markdown",
   "metadata": {},
   "source": [
    "Observations from cohort analysis\n",
    "\n",
    "Each month the same number of people arrive at the home page\n",
    "\n",
    "The number of people landing on the search page is dramatically reduced betweeen cohort[1,2] and cohort[3,4]\n",
    "\n",
    "Mobile users are dramatically effected by user cohort --> the number of users who go from home page to search page on mobile devices changes dramatically depending on if they started in month 1/2 or month 3/4\n",
    "\n",
    "gender has no effect on the drop in conversion"
   ]
  },
  {
   "cell_type": "markdown",
   "metadata": {},
   "source": [
    "# Suggestions"
   ]
  },
  {
   "cell_type": "markdown",
   "metadata": {},
   "source": [
    "New moblie users are being adversly effected by some change that took place between feb-march\n",
    "\n",
    "they are landing on the home page but no longer landing (in the same proportion ) on the search page \n",
    "\n",
    "something is most likely wrong with the home page - search page transistion \n",
    "\n",
    "(maybe there is a brocken link)\n",
    "\n",
    "(maybe the search bar has been moved or changed and is reducing user engagement)\n",
    "\n",
    "(maybe mobile users are seeing an add they don't like)"
   ]
  },
  {
   "cell_type": "markdown",
   "metadata": {},
   "source": [
    "# Exploration"
   ]
  },
  {
   "cell_type": "code",
   "execution_count": 77,
   "metadata": {},
   "outputs": [
    {
     "name": "stdout",
     "output_type": "stream",
     "text": [
      "(90400, 4) (90400, 2) (45200, 2) (6030, 2) (452, 2)\n"
     ]
    }
   ],
   "source": [
    "import pandas as pd\n",
    "import seaborn as sns\n",
    "import numpy as np\n",
    "import matplotlib.pyplot as plt\n",
    "\n",
    "input_data = '../../data/input/'\n",
    "user = pd.read_csv(input_data + 'user_table.csv', parse_dates=['date'])\n",
    "home = pd.read_csv(input_data + 'home_page_table.csv')\n",
    "search = pd.read_csv(input_data + 'search_page_table.csv')\n",
    "payment = pd.read_csv(input_data + 'payment_page_table.csv')\n",
    "confirmation = pd.read_csv(input_data + 'payment_confirmation_table.csv')\n",
    "\n",
    "print(user.shape,home.shape,search.shape,payment.shape,confirmation.shape)"
   ]
  },
  {
   "cell_type": "markdown",
   "metadata": {},
   "source": [
    "### Initial thoughts on data\n",
    "\n",
    "90,400 users\n",
    "\n",
    "90,400 made it to home page (100%)\n",
    "\n",
    "45,200 made it to search page (50%)\n",
    "\n",
    "6,030 made it to payment page (13%, 6.7%)\n",
    "\n",
    "452 made it to confirmation page (7.5%, 1%, 0.5%)"
   ]
  },
  {
   "cell_type": "markdown",
   "metadata": {},
   "source": [
    "## Checking for missing values / mismatched data types"
   ]
  },
  {
   "cell_type": "code",
   "execution_count": 2,
   "metadata": {},
   "outputs": [
    {
     "name": "stdout",
     "output_type": "stream",
     "text": [
      "<class 'pandas.core.frame.DataFrame'>\n",
      "RangeIndex: 90400 entries, 0 to 90399\n",
      "Data columns (total 4 columns):\n",
      "user_id    90400 non-null int64\n",
      "date       90400 non-null datetime64[ns]\n",
      "device     90400 non-null object\n",
      "sex        90400 non-null object\n",
      "dtypes: datetime64[ns](1), int64(1), object(2)\n",
      "memory usage: 2.8+ MB\n",
      "<class 'pandas.core.frame.DataFrame'>\n",
      "RangeIndex: 90400 entries, 0 to 90399\n",
      "Data columns (total 2 columns):\n",
      "user_id    90400 non-null int64\n",
      "page       90400 non-null object\n",
      "dtypes: int64(1), object(1)\n",
      "memory usage: 1.4+ MB\n",
      "<class 'pandas.core.frame.DataFrame'>\n",
      "RangeIndex: 45200 entries, 0 to 45199\n",
      "Data columns (total 2 columns):\n",
      "user_id    45200 non-null int64\n",
      "page       45200 non-null object\n",
      "dtypes: int64(1), object(1)\n",
      "memory usage: 706.3+ KB\n",
      "<class 'pandas.core.frame.DataFrame'>\n",
      "RangeIndex: 6030 entries, 0 to 6029\n",
      "Data columns (total 2 columns):\n",
      "user_id    6030 non-null int64\n",
      "page       6030 non-null object\n",
      "dtypes: int64(1), object(1)\n",
      "memory usage: 94.3+ KB\n",
      "<class 'pandas.core.frame.DataFrame'>\n",
      "RangeIndex: 452 entries, 0 to 451\n",
      "Data columns (total 2 columns):\n",
      "user_id    452 non-null int64\n",
      "page       452 non-null object\n",
      "dtypes: int64(1), object(1)\n",
      "memory usage: 7.1+ KB\n"
     ]
    }
   ],
   "source": [
    "ui = user.info()\n",
    "hi = home.info()\n",
    "si = search.info()\n",
    "pi = payment.info()\n",
    "ci = confirmation.info()"
   ]
  },
  {
   "cell_type": "markdown",
   "metadata": {},
   "source": [
    "All tables have no missing values, but there's no information on categorical information and the possible types they may take"
   ]
  },
  {
   "cell_type": "markdown",
   "metadata": {},
   "source": [
    "## Checking categorical / object columns for null type categories"
   ]
  },
  {
   "cell_type": "code",
   "execution_count": 3,
   "metadata": {},
   "outputs": [
    {
     "name": "stdout",
     "output_type": "stream",
     "text": [
      "Male      45325\n",
      "Female    45075\n",
      "Name: sex, dtype: int64\n"
     ]
    }
   ],
   "source": [
    "def get_value_counts(df):\n",
    "    col_names = df.columns\n",
    "    for col in col_names:\n",
    "        print('{}'.format(df[col].value_counts()))\n",
    "        \n",
    "## you can enter any table here to look for missing type objects in the data frame of choice the results are summarized below      \n",
    "get_value_counts(user[['sex']])"
   ]
  },
  {
   "cell_type": "markdown",
   "metadata": {},
   "source": [
    "results for each table are as follows\n",
    "user - no missing objects\n",
    "home - no missing objects\n",
    "search - no missing objects\n",
    "payment - no missing objects\n",
    "confirmation - no missing objects"
   ]
  },
  {
   "cell_type": "markdown",
   "metadata": {},
   "source": [
    "## Checking for duplicates"
   ]
  },
  {
   "cell_type": "code",
   "execution_count": 4,
   "metadata": {},
   "outputs": [
    {
     "name": "stdout",
     "output_type": "stream",
     "text": [
      "user duplicates (90400, 4)\n",
      "home duplicates(90400, 2)\n",
      "search duplicates (45200, 2)\n",
      "payment duplicates (6030, 2)\n",
      "confirmation duplicates(452, 2)\n",
      "\n"
     ]
    }
   ],
   "source": [
    "ud = user.drop_duplicates().shape\n",
    "hd = home.drop_duplicates().shape\n",
    "sd = search.drop_duplicates().shape\n",
    "pd = payment.drop_duplicates().shape\n",
    "cd = confirmation.drop_duplicates().shape\n",
    "print('user duplicates {}\\nhome duplicates{}\\nsearch duplicates {}\\npayment duplicates {}\\nconfirmation duplicates{}\\n'.format(ud,hd,sd,pd,cd))"
   ]
  },
  {
   "cell_type": "markdown",
   "metadata": {},
   "source": [
    "There are no duplicates across tables\n",
    "The data is already very clean"
   ]
  },
  {
   "cell_type": "markdown",
   "metadata": {},
   "source": [
    "## Create large data frame to analyze cohorts"
   ]
  },
  {
   "cell_type": "code",
   "execution_count": 5,
   "metadata": {},
   "outputs": [
    {
     "name": "stdout",
     "output_type": "stream",
     "text": [
      "0    84370\n",
      "1     6030\n",
      "Name: payment_page, dtype: int64\n"
     ]
    }
   ],
   "source": [
    "def merge_data(df1, df2, new_page_name):\n",
    "    funnel = df1.merge(df2, on='user_id', how ='left')\n",
    "    funnel[new_page_name] = funnel['page'] == new_page_name\n",
    "    funnel[new_page_name] = funnel[[new_page_name]].astype(int)\n",
    "    funnel = funnel.drop(columns = ['page'])\n",
    "    return funnel\n",
    "\n",
    "funnel = merge_data(user, home, 'home_page')\n",
    "funnel = merge_data(funnel, search,'search_page')\n",
    "funnel = merge_data(funnel, payment, 'payment_page')\n",
    "funnel = merge_data(funnel, confirmation, 'payment_confirmation_page')\n",
    "\n",
    "## check to see if you get the same number of 1 as you do payments\n",
    "get_value_counts(funnel[['payment_page']])"
   ]
  },
  {
   "cell_type": "markdown",
   "metadata": {},
   "source": [
    "## Create Cohorts by time"
   ]
  },
  {
   "cell_type": "code",
   "execution_count": 10,
   "metadata": {},
   "outputs": [
    {
     "name": "stdout",
     "output_type": "stream",
     "text": [
      "02    22600\n",
      "01    22600\n",
      "04    22600\n",
      "03    22600\n",
      "Name: cohort_group, dtype: int64\n"
     ]
    }
   ],
   "source": [
    "# create cohorts by month\n",
    "funnel['time_period'] = funnel['date'].apply(lambda x: x.strftime('%m-%d'))\n",
    "funnel['cohort_group'] = funnel['date'].apply(lambda x: x.strftime('%m'))\n",
    "get_value_counts(funnel[['cohort_group']])"
   ]
  },
  {
   "cell_type": "code",
   "execution_count": 62,
   "metadata": {},
   "outputs": [],
   "source": [
    "# create groupbed cohort\n",
    "def create_cohort(df, g_by = ['cohort_group']):\n",
    "    grouped = df.sort_values(by = ['cohort_group'])\n",
    "    grouped = grouped.groupby(g_by)\n",
    "    cohorts = grouped.aggregate({'home_page':np.sum,'search_page' : np.sum, 'payment_page': np.sum, 'payment_confirmation_page':np.sum})\n",
    "    return cohorts"
   ]
  },
  {
   "cell_type": "code",
   "execution_count": 63,
   "metadata": {},
   "outputs": [
    {
     "data": {
      "text/html": [
       "<div>\n",
       "<style scoped>\n",
       "    .dataframe tbody tr th:only-of-type {\n",
       "        vertical-align: middle;\n",
       "    }\n",
       "\n",
       "    .dataframe tbody tr th {\n",
       "        vertical-align: top;\n",
       "    }\n",
       "\n",
       "    .dataframe thead th {\n",
       "        text-align: right;\n",
       "    }\n",
       "</style>\n",
       "<table border=\"1\" class=\"dataframe\">\n",
       "  <thead>\n",
       "    <tr style=\"text-align: right;\">\n",
       "      <th>cohort_group</th>\n",
       "      <th>01</th>\n",
       "      <th>02</th>\n",
       "      <th>03</th>\n",
       "      <th>04</th>\n",
       "    </tr>\n",
       "  </thead>\n",
       "  <tbody>\n",
       "    <tr>\n",
       "      <th>home_page</th>\n",
       "      <td>22600</td>\n",
       "      <td>22600</td>\n",
       "      <td>22600</td>\n",
       "      <td>22600</td>\n",
       "    </tr>\n",
       "    <tr>\n",
       "      <th>search_page</th>\n",
       "      <td>13554</td>\n",
       "      <td>13687</td>\n",
       "      <td>8879</td>\n",
       "      <td>9080</td>\n",
       "    </tr>\n",
       "    <tr>\n",
       "      <th>payment_page</th>\n",
       "      <td>2390</td>\n",
       "      <td>2412</td>\n",
       "      <td>631</td>\n",
       "      <td>597</td>\n",
       "    </tr>\n",
       "    <tr>\n",
       "      <th>payment_confirmation_page</th>\n",
       "      <td>189</td>\n",
       "      <td>173</td>\n",
       "      <td>44</td>\n",
       "      <td>46</td>\n",
       "    </tr>\n",
       "  </tbody>\n",
       "</table>\n",
       "</div>"
      ],
      "text/plain": [
       "cohort_group                  01     02     03     04\n",
       "home_page                  22600  22600  22600  22600\n",
       "search_page                13554  13687   8879   9080\n",
       "payment_page                2390   2412    631    597\n",
       "payment_confirmation_page    189    173     44     46"
      ]
     },
     "execution_count": 63,
     "metadata": {},
     "output_type": "execute_result"
    }
   ],
   "source": [
    "cohorts = create_cohort(funnel)\n",
    "cohorts = cohorts.transpose()\n",
    "cohorts.head()"
   ]
  },
  {
   "cell_type": "code",
   "execution_count": 64,
   "metadata": {},
   "outputs": [
    {
     "data": {
      "text/plain": [
       "(array([0, 1, 2, 3]), <a list of 4 Text xticklabel objects>)"
      ]
     },
     "execution_count": 64,
     "metadata": {},
     "output_type": "execute_result"
    },
    {
     "data": {
      "image/png": "[encoded data removed]",
      "text/plain": [
       "<matplotlib.figure.Figure at 0x7f7fbf024668>"
      ]
     },
     "metadata": {},
     "output_type": "display_data"
    }
   ],
   "source": [
    "#plot counts by cohorts\n",
    "cohorts.plot(kind = 'bar')\n",
    "plt.xticks(rotation = -45)"
   ]
  },
  {
   "cell_type": "markdown",
   "metadata": {},
   "source": [
    "the biggest change occurs between the home page and search page"
   ]
  },
  {
   "cell_type": "markdown",
   "metadata": {},
   "source": [
    "### Create cohorts by device and time"
   ]
  },
  {
   "cell_type": "code",
   "execution_count": 68,
   "metadata": {},
   "outputs": [
    {
     "data": {
      "text/html": [
       "<div>\n",
       "<style scoped>\n",
       "    .dataframe tbody tr th:only-of-type {\n",
       "        vertical-align: middle;\n",
       "    }\n",
       "\n",
       "    .dataframe tbody tr th {\n",
       "        vertical-align: top;\n",
       "    }\n",
       "\n",
       "    .dataframe thead tr th {\n",
       "        text-align: left;\n",
       "    }\n",
       "</style>\n",
       "<table border=\"1\" class=\"dataframe\">\n",
       "  <thead>\n",
       "    <tr>\n",
       "      <th>cohort_group</th>\n",
       "      <th colspan=\"2\" halign=\"left\">01</th>\n",
       "      <th colspan=\"2\" halign=\"left\">02</th>\n",
       "      <th colspan=\"2\" halign=\"left\">03</th>\n",
       "      <th colspan=\"2\" halign=\"left\">04</th>\n",
       "    </tr>\n",
       "    <tr>\n",
       "      <th>device</th>\n",
       "      <th>Desktop</th>\n",
       "      <th>Mobile</th>\n",
       "      <th>Desktop</th>\n",
       "      <th>Mobile</th>\n",
       "      <th>Desktop</th>\n",
       "      <th>Mobile</th>\n",
       "      <th>Desktop</th>\n",
       "      <th>Mobile</th>\n",
       "    </tr>\n",
       "  </thead>\n",
       "  <tbody>\n",
       "    <tr>\n",
       "      <th>home_page</th>\n",
       "      <td>15050</td>\n",
       "      <td>7550</td>\n",
       "      <td>15050</td>\n",
       "      <td>7550</td>\n",
       "      <td>15050</td>\n",
       "      <td>7550</td>\n",
       "      <td>15050</td>\n",
       "      <td>7550</td>\n",
       "    </tr>\n",
       "    <tr>\n",
       "      <th>search_page</th>\n",
       "      <td>7529</td>\n",
       "      <td>6025</td>\n",
       "      <td>7632</td>\n",
       "      <td>6055</td>\n",
       "      <td>7370</td>\n",
       "      <td>1509</td>\n",
       "      <td>7569</td>\n",
       "      <td>1511</td>\n",
       "    </tr>\n",
       "    <tr>\n",
       "      <th>payment_page</th>\n",
       "      <td>1221</td>\n",
       "      <td>1169</td>\n",
       "      <td>1191</td>\n",
       "      <td>1221</td>\n",
       "      <td>296</td>\n",
       "      <td>335</td>\n",
       "      <td>302</td>\n",
       "      <td>295</td>\n",
       "    </tr>\n",
       "    <tr>\n",
       "      <th>payment_confirmation_page</th>\n",
       "      <td>60</td>\n",
       "      <td>129</td>\n",
       "      <td>54</td>\n",
       "      <td>119</td>\n",
       "      <td>14</td>\n",
       "      <td>30</td>\n",
       "      <td>22</td>\n",
       "      <td>24</td>\n",
       "    </tr>\n",
       "  </tbody>\n",
       "</table>\n",
       "</div>"
      ],
      "text/plain": [
       "cohort_group                   01             02             03         \\\n",
       "device                    Desktop Mobile Desktop Mobile Desktop Mobile   \n",
       "home_page                   15050   7550   15050   7550   15050   7550   \n",
       "search_page                  7529   6025    7632   6055    7370   1509   \n",
       "payment_page                 1221   1169    1191   1221     296    335   \n",
       "payment_confirmation_page      60    129      54    119      14     30   \n",
       "\n",
       "cohort_group                   04         \n",
       "device                    Desktop Mobile  \n",
       "home_page                   15050   7550  \n",
       "search_page                  7569   1511  \n",
       "payment_page                  302    295  \n",
       "payment_confirmation_page      22     24  "
      ]
     },
     "execution_count": 68,
     "metadata": {},
     "output_type": "execute_result"
    }
   ],
   "source": [
    "device = create_cohort(funnel,g_by = ['cohort_group','device'])\n",
    "device = device.transpose()\n",
    "device.head()"
   ]
  },
  {
   "cell_type": "code",
   "execution_count": 72,
   "metadata": {},
   "outputs": [
    {
     "data": {
      "text/plain": [
       "(array([0, 1, 2, 3]), <a list of 4 Text xticklabel objects>)"
      ]
     },
     "execution_count": 72,
     "metadata": {},
     "output_type": "execute_result"
    },
    {
     "data": {
      "image/png": "[encoded data removed]",
      "text/plain": [
       "<matplotlib.figure.Figure at 0x7f7fbf0db5c0>"
      ]
     },
     "metadata": {},
     "output_type": "display_data"
    }
   ],
   "source": [
    "#plot counts by cohorts\n",
    "device.plot(kind = 'bar')\n",
    "plt.xticks(rotation = -45)"
   ]
  },
  {
   "cell_type": "markdown",
   "metadata": {},
   "source": [
    "Desktop users were are largly indistinguishable between home and search page\n",
    "\n",
    "however mobile users are dramatically effected between cohorts"
   ]
  },
  {
   "cell_type": "markdown",
   "metadata": {},
   "source": [
    "### Cohorts by sex"
   ]
  },
  {
   "cell_type": "code",
   "execution_count": 76,
   "metadata": {},
   "outputs": [
    {
     "data": {
      "text/plain": [
       "(array([0, 1, 2, 3]), <a list of 4 Text xticklabel objects>)"
      ]
     },
     "execution_count": 76,
     "metadata": {},
     "output_type": "execute_result"
    },
    {
     "data": {
      "image/png": "[encoded data removed]",
      "text/plain": [
       "<matplotlib.figure.Figure at 0x7f7fb4ce8ba8>"
      ]
     },
     "metadata": {},
     "output_type": "display_data"
    }
   ],
   "source": [
    "gender = create_cohort(funnel,g_by = ['cohort_group','sex'])\n",
    "gender = gender.transpose()\n",
    "#plot counts by cohorts\n",
    "gender.plot(kind = 'bar')\n",
    "plt.xticks(rotation = -45)"
   ]
  },
  {
   "cell_type": "markdown",
   "metadata": {},
   "source": [
    "# Solution"
   ]
  },
  {
   "cell_type": "markdown",
   "metadata": {},
   "source": [
    "Observations from cohort analysis\n",
    "\n",
    "Each month the same number of people arrive at the home page\n",
    "\n",
    "The number of people landing on the search page is dramatically reduced betweeen cohort[1,2] and cohort[3,4]\n",
    "\n",
    "Mobile users are dramatically effected by user cohort --> the number of users who go from home page to search page on mobile devices changes dramatically depending on if they started in month 1/2 or month 3/4\n",
    "\n",
    "gender has no effect on the drop in conversion"
   ]
  },
  {
   "cell_type": "markdown",
   "metadata": {},
   "source": [
    "# Suggestions"
   ]
  },
  {
   "cell_type": "markdown",
   "metadata": {},
   "source": [
    "New moblie users are being adversly effected by some change that took place between feb-march\n",
    "\n",
    "they are landing on the home page but no longer landing (in the same proportion ) on the search page \n",
    "\n",
    "something is most likely wrong with the home page - search page transistion \n",
    "\n",
    "(maybe there is a brocken link)\n",
    "\n",
    "(maybe the search bar has been moved or changed and is reducing user engagement)\n",
    "\n",
    "(maybe mobile users are seeing an add they don't like)"
   ]
  }
 ],
 "metadata": {
  "kernelspec": {
   "display_name": "Python 3",
   "language": "python",
   "name": "python3"
  },
  "language_info": {
   "codemirror_mode": {
    "name": "ipython",
    "version": 3
   },
   "file_extension": ".py",
   "mimetype": "text/x-python",
   "name": "python",
   "nbconvert_exporter": "python",
   "pygments_lexer": "ipython3",
   "version": "3.6.4"
  }
 },
 "nbformat": 4,
 "nbformat_minor": 2
}
